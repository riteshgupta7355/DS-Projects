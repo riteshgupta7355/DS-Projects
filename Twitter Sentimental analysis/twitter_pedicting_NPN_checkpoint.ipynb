{
 "cells": [
  {
   "cell_type": "code",
   "execution_count": 1,
   "metadata": {
    "colab": {},
    "colab_type": "code",
    "id": "Q_hPalbkpkBV"
   },
   "outputs": [],
   "source": [
    "import pandas as pd\n"
   ]
  },
  {
   "cell_type": "code",
   "execution_count": 2,
   "metadata": {
    "colab": {},
    "colab_type": "code",
    "id": "tAdGABzfpkBZ"
   },
   "outputs": [],
   "source": [
    "import matplotlib.pyplot as plt\n",
    "%matplotlib inline"
   ]
  },
  {
   "cell_type": "code",
   "execution_count": 3,
   "metadata": {
    "colab": {},
    "colab_type": "code",
    "id": "EhUWAEKjpkBb"
   },
   "outputs": [],
   "source": [
    "from sklearn.model_selection import train_test_split\n",
    "from sklearn.preprocessing import LabelEncoder\n",
    "from sklearn.metrics import confusion_matrix, classification_report, accuracy_score\n",
    "from sklearn.manifold import TSNE\n",
    "from sklearn.feature_extraction.text import TfidfVectorizer"
   ]
  },
  {
   "cell_type": "code",
   "execution_count": 4,
   "metadata": {
    "colab": {
     "base_uri": "https://localhost:8080/",
     "height": 34
    },
    "colab_type": "code",
    "id": "4_O1GrotpkBd",
    "outputId": "13223a12-79f8-4422-ec85-6a33b89b90e0"
   },
   "outputs": [
    {
     "name": "stderr",
     "output_type": "stream",
     "text": [
      "C:\\Users\\Divesh\\Anaconda3\\lib\\site-packages\\h5py\\__init__.py:36: FutureWarning: Conversion of the second argument of issubdtype from `float` to `np.floating` is deprecated. In future, it will be treated as `np.float64 == np.dtype(float).type`.\n",
      "  from ._conv import register_converters as _register_converters\n",
      "Using TensorFlow backend.\n"
     ]
    }
   ],
   "source": [
    "from keras.preprocessing.text import Tokenizer"
   ]
  },
  {
   "cell_type": "code",
   "execution_count": 5,
   "metadata": {
    "colab": {},
    "colab_type": "code",
    "id": "-SJU5bgSpkBg"
   },
   "outputs": [],
   "source": [
    "from keras.preprocessing.sequence import pad_sequences"
   ]
  },
  {
   "cell_type": "code",
   "execution_count": 6,
   "metadata": {
    "colab": {},
    "colab_type": "code",
    "id": "J2vVct6RpkBi"
   },
   "outputs": [],
   "source": [
    "from keras.models import Sequential"
   ]
  },
  {
   "cell_type": "code",
   "execution_count": 7,
   "metadata": {
    "colab": {},
    "colab_type": "code",
    "id": "qD9l1QpLpkBk"
   },
   "outputs": [],
   "source": [
    "from keras.layers import Activation, Dense, Dropout, Embedding, Flatten, Conv1D, MaxPooling1D, LSTM"
   ]
  },
  {
   "cell_type": "code",
   "execution_count": 8,
   "metadata": {
    "colab": {},
    "colab_type": "code",
    "id": "te5aOwZopkBn"
   },
   "outputs": [],
   "source": [
    "from keras import utils"
   ]
  },
  {
   "cell_type": "code",
   "execution_count": 9,
   "metadata": {
    "colab": {},
    "colab_type": "code",
    "id": "BCUdWfEWpkBp"
   },
   "outputs": [],
   "source": [
    "from keras.callbacks import ReduceLROnPlateau, EarlyStopping"
   ]
  },
  {
   "cell_type": "code",
   "execution_count": 10,
   "metadata": {
    "colab": {},
    "colab_type": "code",
    "id": "CjuQAboapkBt"
   },
   "outputs": [],
   "source": [
    "import nltk\n",
    "from nltk.corpus import stopwords\n",
    "from  nltk.stem import SnowballStemmer"
   ]
  },
  {
   "cell_type": "code",
   "execution_count": 11,
   "metadata": {
    "colab": {},
    "colab_type": "code",
    "id": "sntv0O88pkBu"
   },
   "outputs": [
    {
     "name": "stderr",
     "output_type": "stream",
     "text": [
      "C:\\Users\\Divesh\\Anaconda3\\lib\\site-packages\\gensim\\utils.py:1197: UserWarning: detected Windows; aliasing chunkize to chunkize_serial\n",
      "  warnings.warn(\"detected Windows; aliasing chunkize to chunkize_serial\")\n"
     ]
    }
   ],
   "source": [
    "import gensim"
   ]
  },
  {
   "cell_type": "code",
   "execution_count": 12,
   "metadata": {
    "colab": {},
    "colab_type": "code",
    "id": "4Y6TwVmKpkBx"
   },
   "outputs": [],
   "source": [
    "import re"
   ]
  },
  {
   "cell_type": "code",
   "execution_count": 13,
   "metadata": {
    "colab": {},
    "colab_type": "code",
    "id": "wMCcEtGWpkBz"
   },
   "outputs": [],
   "source": [
    "import numpy as np"
   ]
  },
  {
   "cell_type": "code",
   "execution_count": 14,
   "metadata": {
    "colab": {},
    "colab_type": "code",
    "id": "jMib3e-opkB1"
   },
   "outputs": [],
   "source": [
    "import os"
   ]
  },
  {
   "cell_type": "code",
   "execution_count": 15,
   "metadata": {
    "colab": {},
    "colab_type": "code",
    "id": "HnzHd0tFpkB3"
   },
   "outputs": [],
   "source": [
    "from collections import Counter"
   ]
  },
  {
   "cell_type": "code",
   "execution_count": 16,
   "metadata": {
    "colab": {},
    "colab_type": "code",
    "id": "bZs7B2p-pkB5"
   },
   "outputs": [],
   "source": [
    "import logging"
   ]
  },
  {
   "cell_type": "markdown",
   "metadata": {
    "colab": {},
    "colab_type": "code",
    "id": "WbWd7wwYpkB7"
   },
   "source": [
    "import `"
   ]
  },
  {
   "cell_type": "code",
   "execution_count": 18,
   "metadata": {
    "colab": {},
    "colab_type": "code",
    "id": "xixhIMxupkB9"
   },
   "outputs": [],
   "source": [
    "import pickle"
   ]
  },
  {
   "cell_type": "code",
   "execution_count": 19,
   "metadata": {
    "colab": {},
    "colab_type": "code",
    "id": "IeGxzbBBpkCB"
   },
   "outputs": [],
   "source": [
    "import itertools"
   ]
  },
  {
   "cell_type": "code",
   "execution_count": 20,
   "metadata": {
    "colab": {},
    "colab_type": "code",
    "id": "RSaCqyGLpkCE"
   },
   "outputs": [],
   "source": [
    "logging.basicConfig(format='%(asctime)s : %(levelname)s : %(message)s', level=logging.INFO)"
   ]
  },
  {
   "cell_type": "code",
   "execution_count": 21,
   "metadata": {
    "colab": {
     "base_uri": "https://localhost:8080/",
     "height": 68
    },
    "colab_type": "code",
    "id": "AdMx7sA7pkCG",
    "outputId": "d8624d28-e317-4ce7-b1b9-cdda8371589a"
   },
   "outputs": [
    {
     "name": "stderr",
     "output_type": "stream",
     "text": [
      "[nltk_data] Downloading package stopwords to\n",
      "[nltk_data]     C:\\Users\\Divesh\\AppData\\Roaming\\nltk_data...\n",
      "[nltk_data]   Package stopwords is already up-to-date!\n"
     ]
    },
    {
     "data": {
      "text/plain": [
       "True"
      ]
     },
     "execution_count": 21,
     "metadata": {},
     "output_type": "execute_result"
    }
   ],
   "source": [
    "nltk.download('stopwords')"
   ]
  },
  {
   "cell_type": "code",
   "execution_count": 22,
   "metadata": {
    "colab": {},
    "colab_type": "code",
    "id": "vXtYkhhSpkCJ"
   },
   "outputs": [],
   "source": [
    "# DATASET\n",
    "DATASET_COLUMNS = [\"target\", \"ids\", \"date\", \"flag\", \"user\", \"text\"]\n",
    "DATASET_ENCODING = \"ISO-8859-1\"\n",
    "TRAIN_SIZE = 0.8\n",
    "\n",
    "# TEXT CLENAING\n",
    "TEXT_CLEANING_RE = \"@\\S+|https?:\\S+|http?:\\S|[^A-Za-z0-9]+\"\n",
    "\n",
    "# WORD2VEC \n",
    "W2V_SIZE = 300\n",
    "W2V_WINDOW = 7\n",
    "W2V_EPOCH = 32\n",
    "W2V_MIN_COUNT = 10\n",
    "\n",
    "# KERAS\n",
    "SEQUENCE_LENGTH = 300\n",
    "EPOCHS = 8\n",
    "BATCH_SIZE = 1024\n",
    "\n",
    "# SENTIMENT\n",
    "POSITIVE = \"POSITIVE\"\n",
    "NEGATIVE = \"NEGATIVE\"\n",
    "NEUTRAL = \"NEUTRAL\"\n",
    "SENTIMENT_THRESHOLDS = (0.4, 0.7)\n",
    "\n",
    "# EXPORT\n",
    "KERAS_MODEL = \"model.h5\"\n",
    "WORD2VEC_MODEL = \"model.w2v\"\n",
    "TOKENIZER_MODEL = \"tokenizer.pkl\"\n",
    "ENCODER_MODEL = \"encoder.pkl\""
   ]
  },
  {
   "cell_type": "code",
   "execution_count": 23,
   "metadata": {
    "colab": {},
    "colab_type": "code",
    "id": "452mEQAirys_"
   },
   "outputs": [],
   "source": [
    "df = pd.read_csv(\"training.1600000.processed.noemoticon.csv\", encoding =DATASET_ENCODING , names=DATASET_COLUMNS)"
   ]
  },
  {
   "cell_type": "code",
   "execution_count": 24,
   "metadata": {
    "colab": {
     "base_uri": "https://localhost:8080/",
     "height": 34
    },
    "colab_type": "code",
    "id": "4HmuWxeopkCN",
    "outputId": "915c73cb-244a-4ccb-c5b5-c2f7b2c62b73"
   },
   "outputs": [
    {
     "name": "stdout",
     "output_type": "stream",
     "text": [
      "Dataset size: 1600000\n"
     ]
    }
   ],
   "source": [
    "print(\"Dataset size:\", len(df))"
   ]
  },
  {
   "cell_type": "code",
   "execution_count": 25,
   "metadata": {
    "colab": {
     "base_uri": "https://localhost:8080/",
     "height": 204
    },
    "colab_type": "code",
    "id": "k8_YgUbqpkCO",
    "outputId": "e5fb97e4-e510-4da8-c3d9-7c17f98f5299"
   },
   "outputs": [
    {
     "data": {
      "text/html": [
       "<div>\n",
       "<style scoped>\n",
       "    .dataframe tbody tr th:only-of-type {\n",
       "        vertical-align: middle;\n",
       "    }\n",
       "\n",
       "    .dataframe tbody tr th {\n",
       "        vertical-align: top;\n",
       "    }\n",
       "\n",
       "    .dataframe thead th {\n",
       "        text-align: right;\n",
       "    }\n",
       "</style>\n",
       "<table border=\"1\" class=\"dataframe\">\n",
       "  <thead>\n",
       "    <tr style=\"text-align: right;\">\n",
       "      <th></th>\n",
       "      <th>target</th>\n",
       "      <th>ids</th>\n",
       "      <th>date</th>\n",
       "      <th>flag</th>\n",
       "      <th>user</th>\n",
       "      <th>text</th>\n",
       "    </tr>\n",
       "  </thead>\n",
       "  <tbody>\n",
       "    <tr>\n",
       "      <th>0</th>\n",
       "      <td>0</td>\n",
       "      <td>1467810369</td>\n",
       "      <td>Mon Apr 06 22:19:45 PDT 2009</td>\n",
       "      <td>NO_QUERY</td>\n",
       "      <td>_TheSpecialOne_</td>\n",
       "      <td>@switchfoot http://twitpic.com/2y1zl - Awww, t...</td>\n",
       "    </tr>\n",
       "    <tr>\n",
       "      <th>1</th>\n",
       "      <td>0</td>\n",
       "      <td>1467810672</td>\n",
       "      <td>Mon Apr 06 22:19:49 PDT 2009</td>\n",
       "      <td>NO_QUERY</td>\n",
       "      <td>scotthamilton</td>\n",
       "      <td>is upset that he can't update his Facebook by ...</td>\n",
       "    </tr>\n",
       "    <tr>\n",
       "      <th>2</th>\n",
       "      <td>0</td>\n",
       "      <td>1467810917</td>\n",
       "      <td>Mon Apr 06 22:19:53 PDT 2009</td>\n",
       "      <td>NO_QUERY</td>\n",
       "      <td>mattycus</td>\n",
       "      <td>@Kenichan I dived many times for the ball. Man...</td>\n",
       "    </tr>\n",
       "    <tr>\n",
       "      <th>3</th>\n",
       "      <td>0</td>\n",
       "      <td>1467811184</td>\n",
       "      <td>Mon Apr 06 22:19:57 PDT 2009</td>\n",
       "      <td>NO_QUERY</td>\n",
       "      <td>ElleCTF</td>\n",
       "      <td>my whole body feels itchy and like its on fire</td>\n",
       "    </tr>\n",
       "    <tr>\n",
       "      <th>4</th>\n",
       "      <td>0</td>\n",
       "      <td>1467811193</td>\n",
       "      <td>Mon Apr 06 22:19:57 PDT 2009</td>\n",
       "      <td>NO_QUERY</td>\n",
       "      <td>Karoli</td>\n",
       "      <td>@nationwideclass no, it's not behaving at all....</td>\n",
       "    </tr>\n",
       "  </tbody>\n",
       "</table>\n",
       "</div>"
      ],
      "text/plain": [
       "   target         ids                          date      flag  \\\n",
       "0       0  1467810369  Mon Apr 06 22:19:45 PDT 2009  NO_QUERY   \n",
       "1       0  1467810672  Mon Apr 06 22:19:49 PDT 2009  NO_QUERY   \n",
       "2       0  1467810917  Mon Apr 06 22:19:53 PDT 2009  NO_QUERY   \n",
       "3       0  1467811184  Mon Apr 06 22:19:57 PDT 2009  NO_QUERY   \n",
       "4       0  1467811193  Mon Apr 06 22:19:57 PDT 2009  NO_QUERY   \n",
       "\n",
       "              user                                               text  \n",
       "0  _TheSpecialOne_  @switchfoot http://twitpic.com/2y1zl - Awww, t...  \n",
       "1    scotthamilton  is upset that he can't update his Facebook by ...  \n",
       "2         mattycus  @Kenichan I dived many times for the ball. Man...  \n",
       "3          ElleCTF    my whole body feels itchy and like its on fire   \n",
       "4           Karoli  @nationwideclass no, it's not behaving at all....  "
      ]
     },
     "execution_count": 25,
     "metadata": {},
     "output_type": "execute_result"
    }
   ],
   "source": [
    "df.head(5)"
   ]
  },
  {
   "cell_type": "code",
   "execution_count": 26,
   "metadata": {
    "colab": {},
    "colab_type": "code",
    "id": "s308hqrUpkCR"
   },
   "outputs": [],
   "source": [
    "decode_map = {0: \"NEGATIVE\", 2: \"NEUTRAL\", 4: \"POSITIVE\"}\n",
    "def decode_sentiment(label):\n",
    "    return decode_map[int(label)]"
   ]
  },
  {
   "cell_type": "code",
   "execution_count": 27,
   "metadata": {
    "colab": {
     "base_uri": "https://localhost:8080/",
     "height": 51
    },
    "colab_type": "code",
    "id": "DHmbIPsypkCS",
    "outputId": "2b7d215a-40b6-4d46-d415-352a513de1f2"
   },
   "outputs": [
    {
     "name": "stdout",
     "output_type": "stream",
     "text": [
      "Wall time: 948 ms\n"
     ]
    }
   ],
   "source": [
    "%%time\n",
    "df.target = df.target.apply(lambda x: decode_sentiment(x))"
   ]
  },
  {
   "cell_type": "code",
   "execution_count": 28,
   "metadata": {
    "colab": {
     "base_uri": "https://localhost:8080/",
     "height": 515
    },
    "colab_type": "code",
    "id": "1-Z5I_EupkCU",
    "outputId": "8ede645e-c657-4b31-b556-ce378a617b91"
   },
   "outputs": [
    {
     "data": {
      "text/plain": [
       "Text(0.5,1,'Dataset labels distribuition')"
      ]
     },
     "execution_count": 28,
     "metadata": {},
     "output_type": "execute_result"
    },
    {
     "data": {
      "image/png": "[encoded data removed]",
      "text/plain": [
       "<Figure size 1152x576 with 1 Axes>"
      ]
     },
     "metadata": {},
     "output_type": "display_data"
    }
   ],
   "source": [
    "target_cnt = Counter(df.target)\n",
    "\n",
    "plt.figure(figsize=(16,8))\n",
    "plt.bar(target_cnt.keys(), target_cnt.values())\n",
    "plt.title(\"Dataset labels distribuition\")"
   ]
  },
  {
   "cell_type": "code",
   "execution_count": 29,
   "metadata": {
    "colab": {},
    "colab_type": "code",
    "id": "5TGCUZbrpkCW"
   },
   "outputs": [],
   "source": [
    "stop_words = stopwords.words(\"english\")\n",
    "stemmer = SnowballStemmer(\"english\")"
   ]
  },
  {
   "cell_type": "code",
   "execution_count": 30,
   "metadata": {
    "colab": {},
    "colab_type": "code",
    "id": "v_950pBbpkCY"
   },
   "outputs": [],
   "source": [
    "def preprocess(text, stem=False):\n",
    "    # Remove link,user and special characters\n",
    "    text = re.sub(TEXT_CLEANING_RE, ' ', str(text).lower()).strip()\n",
    "    tokens = []\n",
    "    for token in text.split():\n",
    "        if token not in stop_words:\n",
    "            if stem:\n",
    "                tokens.append(stemmer.stem(token))\n",
    "            else:\n",
    "                tokens.append(token)\n",
    "    return \" \".join(tokens)"
   ]
  },
  {
   "cell_type": "code",
   "execution_count": 31,
   "metadata": {
    "colab": {
     "base_uri": "https://localhost:8080/",
     "height": 51
    },
    "colab_type": "code",
    "id": "4FY_8CsvpkCa",
    "outputId": "1a8a430c-7289-4aed-e616-acde2dca76a5"
   },
   "outputs": [
    {
     "name": "stdout",
     "output_type": "stream",
     "text": [
      "Wall time: 1min 6s\n"
     ]
    }
   ],
   "source": [
    "%%time\n",
    "df.text = df.text.apply(lambda x: preprocess(x))"
   ]
  },
  {
   "cell_type": "code",
   "execution_count": 32,
   "metadata": {
    "colab": {
     "base_uri": "https://localhost:8080/",
     "height": 51
    },
    "colab_type": "code",
    "id": "x4WcQNknpkCc",
    "outputId": "422bd215-762f-4e9d-bc3e-46df876b71c9"
   },
   "outputs": [
    {
     "name": "stdout",
     "output_type": "stream",
     "text": [
      "TRAIN size: 1280000\n",
      "TEST size: 320000\n"
     ]
    }
   ],
   "source": [
    "df_train, df_test = train_test_split(df, test_size=1-TRAIN_SIZE, random_state=42)\n",
    "print(\"TRAIN size:\", len(df_train))\n",
    "print(\"TEST size:\", len(df_test))"
   ]
  },
  {
   "cell_type": "code",
   "execution_count": 33,
   "metadata": {
    "colab": {
     "base_uri": "https://localhost:8080/",
     "height": 51
    },
    "colab_type": "code",
    "id": "OnadpzFPpkCe",
    "outputId": "b94dbda6-6105-46c4-c4d3-f50509dda92d"
   },
   "outputs": [
    {
     "name": "stdout",
     "output_type": "stream",
     "text": [
      "Wall time: 4.1 s\n"
     ]
    }
   ],
   "source": [
    "%%time\n",
    "documents = [_text.split() for _text in df_train.text] "
   ]
  },
  {
   "cell_type": "code",
   "execution_count": 34,
   "metadata": {
    "colab": {},
    "colab_type": "code",
    "id": "SnxfBMr4pkCg"
   },
   "outputs": [],
   "source": [
    "w2v_model = gensim.models.word2vec.Word2Vec(size=W2V_SIZE, \n",
    "                                            window=W2V_WINDOW, \n",
    "                                            min_count=W2V_MIN_COUNT, \n",
    "                                            workers=8)"
   ]
  },
  {
   "cell_type": "code",
   "execution_count": 35,
   "metadata": {
    "colab": {
     "base_uri": "https://localhost:8080/",
     "height": 2363
    },
    "colab_type": "code",
    "id": "vBmC_SkKpkCi",
    "outputId": "723c7cea-3b11-4f5b-dbf2-46cfdb5e5756"
   },
   "outputs": [
    {
     "name": "stderr",
     "output_type": "stream",
     "text": [
      "2019-04-18 12:08:52,468 : INFO : collecting all words and their counts\n",
      "2019-04-18 12:08:52,468 : INFO : PROGRESS: at sentence #0, processed 0 words, keeping 0 word types\n",
      "2019-04-18 12:08:52,548 : INFO : PROGRESS: at sentence #10000, processed 72565 words, keeping 14005 word types\n",
      "2019-04-18 12:08:52,576 : INFO : PROGRESS: at sentence #20000, processed 144393 words, keeping 21587 word types\n",
      "2019-04-18 12:08:52,612 : INFO : PROGRESS: at sentence #30000, processed 215826 words, keeping 27541 word types\n",
      "2019-04-18 12:08:52,632 : INFO : PROGRESS: at sentence #40000, processed 288271 words, keeping 32764 word types\n",
      "2019-04-18 12:08:52,668 : INFO : PROGRESS: at sentence #50000, processed 359772 words, keeping 37587 word types\n",
      "2019-04-18 12:08:52,693 : INFO : PROGRESS: at sentence #60000, processed 431431 words, keeping 42198 word types\n",
      "2019-04-18 12:08:52,724 : INFO : PROGRESS: at sentence #70000, processed 503103 words, keeping 46458 word types\n",
      "2019-04-18 12:08:52,740 : INFO : PROGRESS: at sentence #80000, processed 575709 words, keeping 50476 word types\n",
      "2019-04-18 12:08:52,760 : INFO : PROGRESS: at sentence #90000, processed 647100 words, keeping 54140 word types\n",
      "2019-04-18 12:08:52,791 : INFO : PROGRESS: at sentence #100000, processed 718681 words, keeping 57777 word types\n",
      "2019-04-18 12:08:52,822 : INFO : PROGRESS: at sentence #110000, processed 790696 words, keeping 61207 word types\n",
      "2019-04-18 12:08:52,838 : INFO : PROGRESS: at sentence #120000, processed 863134 words, keeping 64583 word types\n",
      "2019-04-18 12:08:52,869 : INFO : PROGRESS: at sentence #130000, processed 935111 words, keeping 67865 word types\n",
      "2019-04-18 12:08:52,904 : INFO : PROGRESS: at sentence #140000, processed 1006668 words, keeping 70966 word types\n",
      "2019-04-18 12:08:52,924 : INFO : PROGRESS: at sentence #150000, processed 1078512 words, keeping 74119 word types\n",
      "2019-04-18 12:08:52,945 : INFO : PROGRESS: at sentence #160000, processed 1149914 words, keeping 77187 word types\n",
      "2019-04-18 12:08:52,980 : INFO : PROGRESS: at sentence #170000, processed 1222145 words, keeping 80267 word types\n",
      "2019-04-18 12:08:53,012 : INFO : PROGRESS: at sentence #180000, processed 1294708 words, keeping 83393 word types\n",
      "2019-04-18 12:08:53,032 : INFO : PROGRESS: at sentence #190000, processed 1367608 words, keeping 86329 word types\n",
      "2019-04-18 12:08:53,079 : INFO : PROGRESS: at sentence #200000, processed 1439469 words, keeping 89103 word types\n",
      "2019-04-18 12:08:53,110 : INFO : PROGRESS: at sentence #210000, processed 1512099 words, keeping 91840 word types\n",
      "2019-04-18 12:08:53,125 : INFO : PROGRESS: at sentence #220000, processed 1584149 words, keeping 94636 word types\n",
      "2019-04-18 12:08:53,156 : INFO : PROGRESS: at sentence #230000, processed 1656354 words, keeping 97353 word types\n",
      "2019-04-18 12:08:53,176 : INFO : PROGRESS: at sentence #240000, processed 1728573 words, keeping 99975 word types\n",
      "2019-04-18 12:08:53,212 : INFO : PROGRESS: at sentence #250000, processed 1801102 words, keeping 102594 word types\n",
      "2019-04-18 12:08:53,237 : INFO : PROGRESS: at sentence #260000, processed 1873103 words, keeping 105162 word types\n",
      "2019-04-18 12:08:53,252 : INFO : PROGRESS: at sentence #270000, processed 1945245 words, keeping 107626 word types\n",
      "2019-04-18 12:08:53,284 : INFO : PROGRESS: at sentence #280000, processed 2017163 words, keeping 110141 word types\n",
      "2019-04-18 12:08:53,319 : INFO : PROGRESS: at sentence #290000, processed 2089574 words, keeping 112539 word types\n",
      "2019-04-18 12:08:53,351 : INFO : PROGRESS: at sentence #300000, processed 2160996 words, keeping 114893 word types\n",
      "2019-04-18 12:08:53,382 : INFO : PROGRESS: at sentence #310000, processed 2232913 words, keeping 117298 word types\n",
      "2019-04-18 12:08:53,413 : INFO : PROGRESS: at sentence #320000, processed 2305039 words, keeping 119693 word types\n",
      "2019-04-18 12:08:53,448 : INFO : PROGRESS: at sentence #330000, processed 2377119 words, keeping 122131 word types\n",
      "2019-04-18 12:08:53,468 : INFO : PROGRESS: at sentence #340000, processed 2449370 words, keeping 124416 word types\n",
      "2019-04-18 12:08:53,488 : INFO : PROGRESS: at sentence #350000, processed 2521564 words, keeping 126669 word types\n",
      "2019-04-18 12:08:53,524 : INFO : PROGRESS: at sentence #360000, processed 2593681 words, keeping 128912 word types\n",
      "2019-04-18 12:08:53,544 : INFO : PROGRESS: at sentence #370000, processed 2665692 words, keeping 131135 word types\n",
      "2019-04-18 12:08:53,576 : INFO : PROGRESS: at sentence #380000, processed 2737859 words, keeping 133403 word types\n",
      "2019-04-18 12:08:53,591 : INFO : PROGRESS: at sentence #390000, processed 2809848 words, keeping 135551 word types\n",
      "2019-04-18 12:08:53,623 : INFO : PROGRESS: at sentence #400000, processed 2882438 words, keeping 137742 word types\n",
      "2019-04-18 12:08:53,654 : INFO : PROGRESS: at sentence #410000, processed 2954075 words, keeping 139909 word types\n",
      "2019-04-18 12:08:53,669 : INFO : PROGRESS: at sentence #420000, processed 3026247 words, keeping 142144 word types\n",
      "2019-04-18 12:08:53,700 : INFO : PROGRESS: at sentence #430000, processed 3098659 words, keeping 144364 word types\n",
      "2019-04-18 12:08:53,736 : INFO : PROGRESS: at sentence #440000, processed 3170663 words, keeping 146439 word types\n",
      "2019-04-18 12:08:53,761 : INFO : PROGRESS: at sentence #450000, processed 3243344 words, keeping 148526 word types\n",
      "2019-04-18 12:08:53,781 : INFO : PROGRESS: at sentence #460000, processed 3315466 words, keeping 150610 word types\n",
      "2019-04-18 12:08:53,812 : INFO : PROGRESS: at sentence #470000, processed 3388295 words, keeping 152737 word types\n",
      "2019-04-18 12:08:53,844 : INFO : PROGRESS: at sentence #480000, processed 3460120 words, keeping 154757 word types\n",
      "2019-04-18 12:08:53,863 : INFO : PROGRESS: at sentence #490000, processed 3531883 words, keeping 156825 word types\n",
      "2019-04-18 12:08:53,895 : INFO : PROGRESS: at sentence #500000, processed 3604217 words, keeping 158859 word types\n",
      "2019-04-18 12:08:53,910 : INFO : PROGRESS: at sentence #510000, processed 3676427 words, keeping 160852 word types\n",
      "2019-04-18 12:08:53,941 : INFO : PROGRESS: at sentence #520000, processed 3749045 words, keeping 162863 word types\n",
      "2019-04-18 12:08:53,972 : INFO : PROGRESS: at sentence #530000, processed 3821622 words, keeping 164929 word types\n",
      "2019-04-18 12:08:54,008 : INFO : PROGRESS: at sentence #540000, processed 3893627 words, keeping 166840 word types\n",
      "2019-04-18 12:08:54,033 : INFO : PROGRESS: at sentence #550000, processed 3965477 words, keeping 168799 word types\n",
      "2019-04-18 12:08:54,068 : INFO : PROGRESS: at sentence #560000, processed 4038050 words, keeping 170802 word types\n",
      "2019-04-18 12:08:54,100 : INFO : PROGRESS: at sentence #570000, processed 4110296 words, keeping 172760 word types\n",
      "2019-04-18 12:08:54,120 : INFO : PROGRESS: at sentence #580000, processed 4182385 words, keeping 174635 word types\n",
      "2019-04-18 12:08:54,167 : INFO : PROGRESS: at sentence #590000, processed 4254632 words, keeping 176470 word types\n",
      "2019-04-18 12:08:54,182 : INFO : PROGRESS: at sentence #600000, processed 4326859 words, keeping 178350 word types\n",
      "2019-04-18 12:08:54,214 : INFO : PROGRESS: at sentence #610000, processed 4399183 words, keeping 180290 word types\n",
      "2019-04-18 12:08:54,244 : INFO : PROGRESS: at sentence #620000, processed 4471343 words, keeping 182129 word types\n",
      "2019-04-18 12:08:54,276 : INFO : PROGRESS: at sentence #630000, processed 4543286 words, keeping 184005 word types\n",
      "2019-04-18 12:08:54,305 : INFO : PROGRESS: at sentence #640000, processed 4615780 words, keeping 185835 word types\n",
      "2019-04-18 12:08:54,329 : INFO : PROGRESS: at sentence #650000, processed 4688481 words, keeping 187705 word types\n",
      "2019-04-18 12:08:54,344 : INFO : PROGRESS: at sentence #660000, processed 4760481 words, keeping 189439 word types\n",
      "2019-04-18 12:08:54,376 : INFO : PROGRESS: at sentence #670000, processed 4833024 words, keeping 191232 word types\n",
      "2019-04-18 12:08:54,396 : INFO : PROGRESS: at sentence #680000, processed 4904516 words, keeping 193177 word types\n",
      "2019-04-18 12:08:54,427 : INFO : PROGRESS: at sentence #690000, processed 4976968 words, keeping 194960 word types\n",
      "2019-04-18 12:08:54,458 : INFO : PROGRESS: at sentence #700000, processed 5049412 words, keeping 196725 word types\n",
      "2019-04-18 12:08:54,474 : INFO : PROGRESS: at sentence #710000, processed 5121976 words, keeping 198516 word types\n"
     ]
    },
    {
     "name": "stderr",
     "output_type": "stream",
     "text": [
      "2019-04-18 12:08:54,505 : INFO : PROGRESS: at sentence #720000, processed 5193881 words, keeping 200325 word types\n",
      "2019-04-18 12:08:54,536 : INFO : PROGRESS: at sentence #730000, processed 5265467 words, keeping 202133 word types\n",
      "2019-04-18 12:08:54,560 : INFO : PROGRESS: at sentence #740000, processed 5337518 words, keeping 203818 word types\n",
      "2019-04-18 12:08:54,581 : INFO : PROGRESS: at sentence #750000, processed 5409321 words, keeping 205535 word types\n",
      "2019-04-18 12:08:54,616 : INFO : PROGRESS: at sentence #760000, processed 5481512 words, keeping 207282 word types\n",
      "2019-04-18 12:08:54,632 : INFO : PROGRESS: at sentence #770000, processed 5554093 words, keeping 209076 word types\n",
      "2019-04-18 12:08:54,668 : INFO : PROGRESS: at sentence #780000, processed 5625382 words, keeping 210805 word types\n",
      "2019-04-18 12:08:54,699 : INFO : PROGRESS: at sentence #790000, processed 5698066 words, keeping 212618 word types\n",
      "2019-04-18 12:08:54,730 : INFO : PROGRESS: at sentence #800000, processed 5770880 words, keeping 214374 word types\n",
      "2019-04-18 12:08:54,746 : INFO : PROGRESS: at sentence #810000, processed 5843418 words, keeping 216009 word types\n",
      "2019-04-18 12:08:54,777 : INFO : PROGRESS: at sentence #820000, processed 5915628 words, keeping 217804 word types\n",
      "2019-04-18 12:08:54,808 : INFO : PROGRESS: at sentence #830000, processed 5987499 words, keeping 219585 word types\n",
      "2019-04-18 12:08:54,832 : INFO : PROGRESS: at sentence #840000, processed 6058973 words, keeping 221344 word types\n",
      "2019-04-18 12:08:54,853 : INFO : PROGRESS: at sentence #850000, processed 6131125 words, keeping 223002 word types\n",
      "2019-04-18 12:08:54,873 : INFO : PROGRESS: at sentence #860000, processed 6202951 words, keeping 224643 word types\n",
      "2019-04-18 12:08:54,904 : INFO : PROGRESS: at sentence #870000, processed 6275461 words, keeping 226362 word types\n",
      "2019-04-18 12:08:54,940 : INFO : PROGRESS: at sentence #880000, processed 6347661 words, keeping 227986 word types\n",
      "2019-04-18 12:08:54,955 : INFO : PROGRESS: at sentence #890000, processed 6419806 words, keeping 229634 word types\n",
      "2019-04-18 12:08:54,987 : INFO : PROGRESS: at sentence #900000, processed 6491644 words, keeping 231389 word types\n",
      "2019-04-18 12:08:55,018 : INFO : PROGRESS: at sentence #910000, processed 6564022 words, keeping 233050 word types\n",
      "2019-04-18 12:08:55,049 : INFO : PROGRESS: at sentence #920000, processed 6636228 words, keeping 234686 word types\n",
      "2019-04-18 12:08:55,064 : INFO : PROGRESS: at sentence #930000, processed 6708573 words, keeping 236393 word types\n",
      "2019-04-18 12:08:55,124 : INFO : PROGRESS: at sentence #940000, processed 6779956 words, keeping 238052 word types\n",
      "2019-04-18 12:08:55,160 : INFO : PROGRESS: at sentence #950000, processed 6852599 words, keeping 239716 word types\n",
      "2019-04-18 12:08:55,192 : INFO : PROGRESS: at sentence #960000, processed 6924717 words, keeping 241354 word types\n",
      "2019-04-18 12:08:55,212 : INFO : PROGRESS: at sentence #970000, processed 6996992 words, keeping 242980 word types\n",
      "2019-04-18 12:08:55,243 : INFO : PROGRESS: at sentence #980000, processed 7068402 words, keeping 244646 word types\n",
      "2019-04-18 12:08:55,274 : INFO : PROGRESS: at sentence #990000, processed 7140346 words, keeping 246186 word types\n",
      "2019-04-18 12:08:55,290 : INFO : PROGRESS: at sentence #1000000, processed 7211757 words, keeping 247726 word types\n",
      "2019-04-18 12:08:55,321 : INFO : PROGRESS: at sentence #1010000, processed 7283267 words, keeping 249288 word types\n",
      "2019-04-18 12:08:55,352 : INFO : PROGRESS: at sentence #1020000, processed 7355299 words, keeping 250860 word types\n",
      "2019-04-18 12:08:55,376 : INFO : PROGRESS: at sentence #1030000, processed 7426918 words, keeping 252366 word types\n",
      "2019-04-18 12:08:55,397 : INFO : PROGRESS: at sentence #1040000, processed 7498815 words, keeping 253930 word types\n",
      "2019-04-18 12:08:55,432 : INFO : PROGRESS: at sentence #1050000, processed 7570499 words, keeping 255471 word types\n",
      "2019-04-18 12:08:55,464 : INFO : PROGRESS: at sentence #1060000, processed 7643251 words, keeping 257035 word types\n",
      "2019-04-18 12:08:55,484 : INFO : PROGRESS: at sentence #1070000, processed 7714721 words, keeping 258509 word types\n",
      "2019-04-18 12:08:55,515 : INFO : PROGRESS: at sentence #1080000, processed 7787371 words, keeping 260071 word types\n",
      "2019-04-18 12:08:55,546 : INFO : PROGRESS: at sentence #1090000, processed 7859336 words, keeping 261683 word types\n",
      "2019-04-18 12:08:55,562 : INFO : PROGRESS: at sentence #1100000, processed 7932029 words, keeping 263278 word types\n",
      "2019-04-18 12:08:55,593 : INFO : PROGRESS: at sentence #1110000, processed 8004146 words, keeping 264800 word types\n",
      "2019-04-18 12:08:55,624 : INFO : PROGRESS: at sentence #1120000, processed 8075880 words, keeping 266309 word types\n",
      "2019-04-18 12:08:55,648 : INFO : PROGRESS: at sentence #1130000, processed 8148163 words, keeping 267826 word types\n",
      "2019-04-18 12:08:55,669 : INFO : PROGRESS: at sentence #1140000, processed 8220487 words, keeping 269391 word types\n",
      "2019-04-18 12:08:55,704 : INFO : PROGRESS: at sentence #1150000, processed 8292498 words, keeping 270894 word types\n",
      "2019-04-18 12:08:55,736 : INFO : PROGRESS: at sentence #1160000, processed 8363838 words, keeping 272400 word types\n",
      "2019-04-18 12:08:55,756 : INFO : PROGRESS: at sentence #1170000, processed 8435510 words, keeping 273970 word types\n",
      "2019-04-18 12:08:55,787 : INFO : PROGRESS: at sentence #1180000, processed 8507795 words, keeping 275521 word types\n",
      "2019-04-18 12:08:55,803 : INFO : PROGRESS: at sentence #1190000, processed 8579080 words, keeping 277007 word types\n",
      "2019-04-18 12:08:55,834 : INFO : PROGRESS: at sentence #1200000, processed 8650606 words, keeping 278457 word types\n",
      "2019-04-18 12:08:55,865 : INFO : PROGRESS: at sentence #1210000, processed 8721893 words, keeping 279959 word types\n",
      "2019-04-18 12:08:55,895 : INFO : PROGRESS: at sentence #1220000, processed 8793795 words, keeping 281427 word types\n",
      "2019-04-18 12:08:55,940 : INFO : PROGRESS: at sentence #1230000, processed 8865726 words, keeping 282981 word types\n",
      "2019-04-18 12:08:55,960 : INFO : PROGRESS: at sentence #1240000, processed 8938173 words, keeping 284542 word types\n",
      "2019-04-18 12:08:55,992 : INFO : PROGRESS: at sentence #1250000, processed 9010842 words, keeping 286064 word types\n",
      "2019-04-18 12:08:56,028 : INFO : PROGRESS: at sentence #1260000, processed 9083261 words, keeping 287521 word types\n",
      "2019-04-18 12:08:56,059 : INFO : PROGRESS: at sentence #1270000, processed 9155616 words, keeping 288987 word types\n",
      "2019-04-18 12:08:56,075 : INFO : collected 290418 word types from a corpus of 9227204 raw words and 1280000 sentences\n",
      "2019-04-18 12:08:56,075 : INFO : Loading a fresh vocabulary\n",
      "2019-04-18 12:08:56,264 : INFO : min_count=10 retains 30369 unique words (10% of original 290418, drops 260049)\n",
      "2019-04-18 12:08:56,264 : INFO : min_count=10 leaves 8780739 word corpus (95% of original 9227204, drops 446465)\n",
      "2019-04-18 12:08:56,393 : INFO : deleting the raw counts dictionary of 290418 items\n",
      "2019-04-18 12:08:56,409 : INFO : sample=0.001 downsamples 45 most-common words\n",
      "2019-04-18 12:08:56,409 : INFO : downsampling leaves estimated 8222658 word corpus (93.6% of prior 8780739)\n",
      "2019-04-18 12:08:56,635 : INFO : estimated required memory for 30369 words and 300 dimensions: 88070100 bytes\n",
      "2019-04-18 12:08:56,635 : INFO : resetting layer weights\n"
     ]
    }
   ],
   "source": [
    "w2v_model.build_vocab(documents)"
   ]
  },
  {
   "cell_type": "code",
   "execution_count": 36,
   "metadata": {
    "colab": {
     "base_uri": "https://localhost:8080/",
     "height": 34
    },
    "colab_type": "code",
    "id": "M9hmlwIzpkCj",
    "outputId": "37a740f1-e01a-4028-9142-c9575e53d880"
   },
   "outputs": [
    {
     "name": "stdout",
     "output_type": "stream",
     "text": [
      "Vocab size 30369\n"
     ]
    }
   ],
   "source": [
    "words = w2v_model.wv.vocab.keys()\n",
    "vocab_size = len(words)\n",
    "print(\"Vocab size\", vocab_size)"
   ]
  },
  {
   "cell_type": "code",
   "execution_count": 37,
   "metadata": {
    "colab": {
     "base_uri": "https://localhost:8080/",
     "height": 17428
    },
    "colab_type": "code",
    "id": "4rBt62CXpkCl",
    "outputId": "f9dc1ae5-4134-4383-ba3f-fe50911dc00e"
   },
   "outputs": [
    {
     "name": "stderr",
     "output_type": "stream",
     "text": [
      "2019-04-18 12:08:57,809 : INFO : training model with 8 workers on 30369 vocabulary and 300 features, using sg=0 hs=0 sample=0.001 negative=5 window=7\n",
      "2019-04-18 12:08:58,972 : INFO : EPOCH 1 - PROGRESS: at 5.22% examples, 402783 words/s, in_qsize 15, out_qsize 0\n",
      "2019-04-18 12:09:00,005 : INFO : EPOCH 1 - PROGRESS: at 11.51% examples, 448758 words/s, in_qsize 15, out_qsize 0\n",
      "2019-04-18 12:09:01,041 : INFO : EPOCH 1 - PROGRESS: at 17.78% examples, 466472 words/s, in_qsize 15, out_qsize 0\n",
      "2019-04-18 12:09:02,129 : INFO : EPOCH 1 - PROGRESS: at 23.84% examples, 464400 words/s, in_qsize 15, out_qsize 0\n",
      "2019-04-18 12:09:03,232 : INFO : EPOCH 1 - PROGRESS: at 28.61% examples, 441938 words/s, in_qsize 15, out_qsize 0\n",
      "2019-04-18 12:09:04,270 : INFO : EPOCH 1 - PROGRESS: at 34.57% examples, 446360 words/s, in_qsize 13, out_qsize 2\n",
      "2019-04-18 12:09:05,313 : INFO : EPOCH 1 - PROGRESS: at 40.08% examples, 444871 words/s, in_qsize 16, out_qsize 0\n",
      "2019-04-18 12:09:06,340 : INFO : EPOCH 1 - PROGRESS: at 46.03% examples, 448581 words/s, in_qsize 16, out_qsize 0\n",
      "2019-04-18 12:09:07,372 : INFO : EPOCH 1 - PROGRESS: at 52.62% examples, 457594 words/s, in_qsize 15, out_qsize 0\n",
      "2019-04-18 12:09:08,393 : INFO : EPOCH 1 - PROGRESS: at 58.47% examples, 458971 words/s, in_qsize 15, out_qsize 0\n",
      "2019-04-18 12:09:09,419 : INFO : EPOCH 1 - PROGRESS: at 64.41% examples, 460300 words/s, in_qsize 16, out_qsize 0\n",
      "2019-04-18 12:09:10,440 : INFO : EPOCH 1 - PROGRESS: at 70.48% examples, 462702 words/s, in_qsize 15, out_qsize 0\n",
      "2019-04-18 12:09:11,444 : INFO : EPOCH 1 - PROGRESS: at 76.77% examples, 466624 words/s, in_qsize 15, out_qsize 0\n",
      "2019-04-18 12:09:12,448 : INFO : EPOCH 1 - PROGRESS: at 82.53% examples, 466640 words/s, in_qsize 14, out_qsize 1\n",
      "2019-04-18 12:09:13,456 : INFO : EPOCH 1 - PROGRESS: at 88.05% examples, 465644 words/s, in_qsize 15, out_qsize 0\n",
      "2019-04-18 12:09:14,461 : INFO : EPOCH 1 - PROGRESS: at 94.15% examples, 467402 words/s, in_qsize 12, out_qsize 3\n",
      "2019-04-18 12:09:15,297 : INFO : worker thread finished; awaiting finish of 7 more threads\n",
      "2019-04-18 12:09:15,297 : INFO : worker thread finished; awaiting finish of 6 more threads\n",
      "2019-04-18 12:09:15,312 : INFO : worker thread finished; awaiting finish of 5 more threads\n",
      "2019-04-18 12:09:15,328 : INFO : worker thread finished; awaiting finish of 4 more threads\n",
      "2019-04-18 12:09:15,328 : INFO : worker thread finished; awaiting finish of 3 more threads\n",
      "2019-04-18 12:09:15,328 : INFO : worker thread finished; awaiting finish of 2 more threads\n",
      "2019-04-18 12:09:15,344 : INFO : worker thread finished; awaiting finish of 1 more threads\n",
      "2019-04-18 12:09:15,364 : INFO : worker thread finished; awaiting finish of 0 more threads\n",
      "2019-04-18 12:09:15,364 : INFO : EPOCH - 1 : training on 9227204 raw words (8222808 effective words) took 17.5s, 471059 effective words/s\n",
      "2019-04-18 12:09:16,385 : INFO : EPOCH 2 - PROGRESS: at 5.21% examples, 423121 words/s, in_qsize 16, out_qsize 0\n",
      "2019-04-18 12:09:17,377 : INFO : EPOCH 2 - PROGRESS: at 11.62% examples, 474121 words/s, in_qsize 15, out_qsize 0\n",
      "2019-04-18 12:09:18,391 : INFO : EPOCH 2 - PROGRESS: at 17.13% examples, 466785 words/s, in_qsize 15, out_qsize 0\n",
      "2019-04-18 12:09:19,463 : INFO : EPOCH 2 - PROGRESS: at 22.65% examples, 454239 words/s, in_qsize 15, out_qsize 0\n",
      "2019-04-18 12:09:20,500 : INFO : EPOCH 2 - PROGRESS: at 28.94% examples, 463824 words/s, in_qsize 14, out_qsize 1\n",
      "2019-04-18 12:09:21,540 : INFO : EPOCH 2 - PROGRESS: at 35.10% examples, 467962 words/s, in_qsize 12, out_qsize 3\n",
      "2019-04-18 12:09:22,568 : INFO : EPOCH 2 - PROGRESS: at 41.48% examples, 474139 words/s, in_qsize 15, out_qsize 0\n",
      "2019-04-18 12:09:23,594 : INFO : EPOCH 2 - PROGRESS: at 47.21% examples, 472698 words/s, in_qsize 15, out_qsize 0\n",
      "2019-04-18 12:09:24,624 : INFO : EPOCH 2 - PROGRESS: at 53.27% examples, 473710 words/s, in_qsize 15, out_qsize 0\n",
      "2019-04-18 12:09:25,676 : INFO : EPOCH 2 - PROGRESS: at 59.44% examples, 474326 words/s, in_qsize 16, out_qsize 0\n",
      "2019-04-18 12:09:26,692 : INFO : EPOCH 2 - PROGRESS: at 65.93% examples, 479476 words/s, in_qsize 15, out_qsize 0\n",
      "2019-04-18 12:09:27,682 : INFO : EPOCH 2 - PROGRESS: at 71.45% examples, 477351 words/s, in_qsize 16, out_qsize 0\n",
      "2019-04-18 12:09:28,708 : INFO : EPOCH 2 - PROGRESS: at 77.85% examples, 480397 words/s, in_qsize 13, out_qsize 2\n",
      "2019-04-18 12:09:29,709 : INFO : EPOCH 2 - PROGRESS: at 84.04% examples, 482023 words/s, in_qsize 15, out_qsize 0\n",
      "2019-04-18 12:09:30,710 : INFO : EPOCH 2 - PROGRESS: at 89.78% examples, 481306 words/s, in_qsize 15, out_qsize 0\n",
      "2019-04-18 12:09:31,735 : INFO : EPOCH 2 - PROGRESS: at 95.88% examples, 481882 words/s, in_qsize 15, out_qsize 0\n",
      "2019-04-18 12:09:32,263 : INFO : worker thread finished; awaiting finish of 7 more threads\n",
      "2019-04-18 12:09:32,295 : INFO : worker thread finished; awaiting finish of 6 more threads\n",
      "2019-04-18 12:09:32,295 : INFO : worker thread finished; awaiting finish of 5 more threads\n",
      "2019-04-18 12:09:32,310 : INFO : worker thread finished; awaiting finish of 4 more threads\n",
      "2019-04-18 12:09:32,326 : INFO : worker thread finished; awaiting finish of 3 more threads\n",
      "2019-04-18 12:09:32,326 : INFO : worker thread finished; awaiting finish of 2 more threads\n",
      "2019-04-18 12:09:32,342 : INFO : worker thread finished; awaiting finish of 1 more threads\n",
      "2019-04-18 12:09:32,357 : INFO : worker thread finished; awaiting finish of 0 more threads\n",
      "2019-04-18 12:09:32,357 : INFO : EPOCH - 2 : training on 9227204 raw words (8222717 effective words) took 17.0s, 484062 effective words/s\n",
      "2019-04-18 12:09:33,398 : INFO : EPOCH 3 - PROGRESS: at 5.43% examples, 441624 words/s, in_qsize 12, out_qsize 3\n",
      "2019-04-18 12:09:34,408 : INFO : EPOCH 3 - PROGRESS: at 11.84% examples, 480526 words/s, in_qsize 15, out_qsize 0\n",
      "2019-04-18 12:09:35,464 : INFO : EPOCH 3 - PROGRESS: at 17.89% examples, 479006 words/s, in_qsize 14, out_qsize 1\n",
      "2019-04-18 12:09:36,476 : INFO : EPOCH 3 - PROGRESS: at 23.74% examples, 476748 words/s, in_qsize 15, out_qsize 0\n",
      "2019-04-18 12:09:37,502 : INFO : EPOCH 3 - PROGRESS: at 29.70% examples, 476962 words/s, in_qsize 15, out_qsize 0\n",
      "2019-04-18 12:09:38,590 : INFO : EPOCH 3 - PROGRESS: at 34.78% examples, 461344 words/s, in_qsize 16, out_qsize 0\n",
      "2019-04-18 12:09:39,600 : INFO : EPOCH 3 - PROGRESS: at 40.94% examples, 466641 words/s, in_qsize 15, out_qsize 0\n",
      "2019-04-18 12:09:40,625 : INFO : EPOCH 3 - PROGRESS: at 46.56% examples, 465245 words/s, in_qsize 15, out_qsize 0\n",
      "2019-04-18 12:09:41,617 : INFO : EPOCH 3 - PROGRESS: at 52.95% examples, 471735 words/s, in_qsize 15, out_qsize 0\n",
      "2019-04-18 12:09:42,705 : INFO : EPOCH 3 - PROGRESS: at 58.80% examples, 468779 words/s, in_qsize 15, out_qsize 0\n",
      "2019-04-18 12:09:43,812 : INFO : EPOCH 3 - PROGRESS: at 65.27% examples, 470164 words/s, in_qsize 15, out_qsize 0\n",
      "2019-04-18 12:09:44,823 : INFO : EPOCH 3 - PROGRESS: at 71.78% examples, 475011 words/s, in_qsize 15, out_qsize 0\n",
      "2019-04-18 12:09:45,828 : INFO : EPOCH 3 - PROGRESS: at 77.42% examples, 473998 words/s, in_qsize 15, out_qsize 0\n",
      "2019-04-18 12:09:46,869 : INFO : EPOCH 3 - PROGRESS: at 83.07% examples, 472113 words/s, in_qsize 16, out_qsize 0\n",
      "2019-04-18 12:09:47,866 : INFO : EPOCH 3 - PROGRESS: at 89.02% examples, 473220 words/s, in_qsize 16, out_qsize 1\n",
      "2019-04-18 12:09:48,875 : INFO : EPOCH 3 - PROGRESS: at 95.55% examples, 476675 words/s, in_qsize 16, out_qsize 0\n",
      "2019-04-18 12:09:49,529 : INFO : worker thread finished; awaiting finish of 7 more threads\n",
      "2019-04-18 12:09:49,532 : INFO : worker thread finished; awaiting finish of 6 more threads\n",
      "2019-04-18 12:09:49,532 : INFO : worker thread finished; awaiting finish of 5 more threads\n",
      "2019-04-18 12:09:49,532 : INFO : worker thread finished; awaiting finish of 4 more threads\n",
      "2019-04-18 12:09:49,532 : INFO : worker thread finished; awaiting finish of 3 more threads\n",
      "2019-04-18 12:09:49,552 : INFO : worker thread finished; awaiting finish of 2 more threads\n",
      "2019-04-18 12:09:49,572 : INFO : worker thread finished; awaiting finish of 1 more threads\n",
      "2019-04-18 12:09:49,572 : INFO : worker thread finished; awaiting finish of 0 more threads\n",
      "2019-04-18 12:09:49,572 : INFO : EPOCH - 3 : training on 9227204 raw words (8222745 effective words) took 17.2s, 478374 effective words/s\n"
     ]
    },
    {
     "name": "stderr",
     "output_type": "stream",
     "text": [
      "2019-04-18 12:09:50,620 : INFO : EPOCH 4 - PROGRESS: at 5.65% examples, 454822 words/s, in_qsize 13, out_qsize 2\n",
      "2019-04-18 12:09:51,662 : INFO : EPOCH 4 - PROGRESS: at 12.06% examples, 482697 words/s, in_qsize 15, out_qsize 0\n",
      "2019-04-18 12:09:52,672 : INFO : EPOCH 4 - PROGRESS: at 18.11% examples, 486654 words/s, in_qsize 14, out_qsize 1\n",
      "2019-04-18 12:09:53,672 : INFO : EPOCH 4 - PROGRESS: at 24.06% examples, 487221 words/s, in_qsize 15, out_qsize 0\n",
      "2019-04-18 12:09:54,724 : INFO : EPOCH 4 - PROGRESS: at 30.13% examples, 483690 words/s, in_qsize 15, out_qsize 0\n",
      "2019-04-18 12:09:55,832 : INFO : EPOCH 4 - PROGRESS: at 36.51% examples, 482712 words/s, in_qsize 16, out_qsize 0\n",
      "2019-04-18 12:09:56,854 : INFO : EPOCH 4 - PROGRESS: at 42.57% examples, 483365 words/s, in_qsize 15, out_qsize 0\n",
      "2019-04-18 12:09:57,863 : INFO : EPOCH 4 - PROGRESS: at 48.41% examples, 482562 words/s, in_qsize 15, out_qsize 0\n",
      "2019-04-18 12:09:58,916 : INFO : EPOCH 4 - PROGRESS: at 54.78% examples, 483958 words/s, in_qsize 15, out_qsize 0\n",
      "2019-04-18 12:09:59,956 : INFO : EPOCH 4 - PROGRESS: at 61.28% examples, 487505 words/s, in_qsize 15, out_qsize 0\n",
      "2019-04-18 12:10:00,988 : INFO : EPOCH 4 - PROGRESS: at 67.13% examples, 485562 words/s, in_qsize 16, out_qsize 0\n",
      "2019-04-18 12:10:02,026 : INFO : EPOCH 4 - PROGRESS: at 73.30% examples, 485696 words/s, in_qsize 15, out_qsize 0\n",
      "2019-04-18 12:10:03,024 : INFO : EPOCH 4 - PROGRESS: at 79.60% examples, 487950 words/s, in_qsize 14, out_qsize 1\n",
      "2019-04-18 12:10:04,040 : INFO : EPOCH 4 - PROGRESS: at 85.99% examples, 490252 words/s, in_qsize 15, out_qsize 0\n",
      "2019-04-18 12:10:05,037 : INFO : EPOCH 4 - PROGRESS: at 91.96% examples, 490179 words/s, in_qsize 15, out_qsize 0\n",
      "2019-04-18 12:10:06,051 : INFO : EPOCH 4 - PROGRESS: at 97.72% examples, 488623 words/s, in_qsize 16, out_qsize 0\n",
      "2019-04-18 12:10:06,240 : INFO : worker thread finished; awaiting finish of 7 more threads\n",
      "2019-04-18 12:10:06,240 : INFO : worker thread finished; awaiting finish of 6 more threads\n",
      "2019-04-18 12:10:06,256 : INFO : worker thread finished; awaiting finish of 5 more threads\n",
      "2019-04-18 12:10:06,290 : INFO : worker thread finished; awaiting finish of 4 more threads\n",
      "2019-04-18 12:10:06,307 : INFO : worker thread finished; awaiting finish of 3 more threads\n",
      "2019-04-18 12:10:06,307 : INFO : worker thread finished; awaiting finish of 2 more threads\n",
      "2019-04-18 12:10:06,323 : INFO : worker thread finished; awaiting finish of 1 more threads\n",
      "2019-04-18 12:10:06,323 : INFO : worker thread finished; awaiting finish of 0 more threads\n",
      "2019-04-18 12:10:06,323 : INFO : EPOCH - 4 : training on 9227204 raw words (8221949 effective words) took 16.7s, 491976 effective words/s\n",
      "2019-04-18 12:10:07,344 : INFO : EPOCH 5 - PROGRESS: at 5.43% examples, 444402 words/s, in_qsize 15, out_qsize 0\n",
      "2019-04-18 12:10:08,381 : INFO : EPOCH 5 - PROGRESS: at 11.62% examples, 467192 words/s, in_qsize 15, out_qsize 0\n",
      "2019-04-18 12:10:09,381 : INFO : EPOCH 5 - PROGRESS: at 17.89% examples, 482151 words/s, in_qsize 14, out_qsize 1\n",
      "2019-04-18 12:10:10,423 : INFO : EPOCH 5 - PROGRESS: at 24.07% examples, 482785 words/s, in_qsize 15, out_qsize 0\n",
      "2019-04-18 12:10:11,444 : INFO : EPOCH 5 - PROGRESS: at 29.91% examples, 480744 words/s, in_qsize 14, out_qsize 1\n",
      "2019-04-18 12:10:12,464 : INFO : EPOCH 5 - PROGRESS: at 35.65% examples, 478327 words/s, in_qsize 16, out_qsize 1\n",
      "2019-04-18 12:10:13,516 : INFO : EPOCH 5 - PROGRESS: at 42.24% examples, 483802 words/s, in_qsize 15, out_qsize 0\n",
      "2019-04-18 12:10:14,507 : INFO : EPOCH 5 - PROGRESS: at 48.30% examples, 485619 words/s, in_qsize 14, out_qsize 1\n",
      "2019-04-18 12:10:15,516 : INFO : EPOCH 5 - PROGRESS: at 54.13% examples, 485022 words/s, in_qsize 14, out_qsize 1\n",
      "2019-04-18 12:10:16,532 : INFO : EPOCH 5 - PROGRESS: at 60.52% examples, 488433 words/s, in_qsize 15, out_qsize 0\n",
      "2019-04-18 12:10:17,534 : INFO : EPOCH 5 - PROGRESS: at 66.58% examples, 489321 words/s, in_qsize 13, out_qsize 2\n",
      "2019-04-18 12:10:18,548 : INFO : EPOCH 5 - PROGRESS: at 72.75% examples, 490084 words/s, in_qsize 13, out_qsize 2\n",
      "2019-04-18 12:10:19,569 : INFO : EPOCH 5 - PROGRESS: at 78.73% examples, 489102 words/s, in_qsize 15, out_qsize 0\n",
      "2019-04-18 12:10:20,616 : INFO : EPOCH 5 - PROGRESS: at 85.23% examples, 490805 words/s, in_qsize 14, out_qsize 1\n",
      "2019-04-18 12:10:21,633 : INFO : EPOCH 5 - PROGRESS: at 91.31% examples, 490863 words/s, in_qsize 15, out_qsize 0\n",
      "2019-04-18 12:10:22,632 : INFO : EPOCH 5 - PROGRESS: at 97.39% examples, 491230 words/s, in_qsize 15, out_qsize 0\n",
      "2019-04-18 12:10:22,919 : INFO : worker thread finished; awaiting finish of 7 more threads\n",
      "2019-04-18 12:10:22,951 : INFO : worker thread finished; awaiting finish of 6 more threads\n",
      "2019-04-18 12:10:22,966 : INFO : worker thread finished; awaiting finish of 5 more threads\n",
      "2019-04-18 12:10:22,966 : INFO : worker thread finished; awaiting finish of 4 more threads\n",
      "2019-04-18 12:10:22,997 : INFO : worker thread finished; awaiting finish of 3 more threads\n",
      "2019-04-18 12:10:23,013 : INFO : worker thread finished; awaiting finish of 2 more threads\n",
      "2019-04-18 12:10:23,029 : INFO : worker thread finished; awaiting finish of 1 more threads\n",
      "2019-04-18 12:10:23,033 : INFO : worker thread finished; awaiting finish of 0 more threads\n",
      "2019-04-18 12:10:23,037 : INFO : EPOCH - 5 : training on 9227204 raw words (8221228 effective words) took 16.7s, 492421 effective words/s\n",
      "2019-04-18 12:10:24,066 : INFO : EPOCH 6 - PROGRESS: at 5.43% examples, 434344 words/s, in_qsize 15, out_qsize 0\n",
      "2019-04-18 12:10:25,127 : INFO : EPOCH 6 - PROGRESS: at 11.29% examples, 444276 words/s, in_qsize 15, out_qsize 0\n",
      "2019-04-18 12:10:26,136 : INFO : EPOCH 6 - PROGRESS: at 17.35% examples, 460936 words/s, in_qsize 13, out_qsize 2\n",
      "2019-04-18 12:10:27,155 : INFO : EPOCH 6 - PROGRESS: at 22.55% examples, 451555 words/s, in_qsize 16, out_qsize 0\n",
      "2019-04-18 12:10:28,199 : INFO : EPOCH 6 - PROGRESS: at 28.61% examples, 456845 words/s, in_qsize 16, out_qsize 0\n",
      "2019-04-18 12:10:29,206 : INFO : EPOCH 6 - PROGRESS: at 34.46% examples, 460266 words/s, in_qsize 14, out_qsize 1\n",
      "2019-04-18 12:10:30,234 : INFO : EPOCH 6 - PROGRESS: at 40.62% examples, 465232 words/s, in_qsize 13, out_qsize 2\n",
      "2019-04-18 12:10:31,238 : INFO : EPOCH 6 - PROGRESS: at 46.46% examples, 466903 words/s, in_qsize 15, out_qsize 0\n",
      "2019-04-18 12:10:32,250 : INFO : EPOCH 6 - PROGRESS: at 52.51% examples, 469723 words/s, in_qsize 14, out_qsize 1\n",
      "2019-04-18 12:10:33,326 : INFO : EPOCH 6 - PROGRESS: at 58.58% examples, 469148 words/s, in_qsize 16, out_qsize 0\n",
      "2019-04-18 12:10:34,370 : INFO : EPOCH 6 - PROGRESS: at 64.62% examples, 469893 words/s, in_qsize 15, out_qsize 0\n",
      "2019-04-18 12:10:35,442 : INFO : EPOCH 6 - PROGRESS: at 70.91% examples, 471054 words/s, in_qsize 14, out_qsize 1\n",
      "2019-04-18 12:10:36,465 : INFO : EPOCH 6 - PROGRESS: at 76.77% examples, 470951 words/s, in_qsize 16, out_qsize 0\n",
      "2019-04-18 12:10:37,541 : INFO : EPOCH 6 - PROGRESS: at 83.29% examples, 472755 words/s, in_qsize 15, out_qsize 0\n",
      "2019-04-18 12:10:38,585 : INFO : EPOCH 6 - PROGRESS: at 89.23% examples, 472535 words/s, in_qsize 15, out_qsize 0\n",
      "2019-04-18 12:10:39,733 : INFO : EPOCH 6 - PROGRESS: at 95.55% examples, 471029 words/s, in_qsize 15, out_qsize 1\n",
      "2019-04-18 12:10:40,420 : INFO : worker thread finished; awaiting finish of 7 more threads\n",
      "2019-04-18 12:10:40,440 : INFO : worker thread finished; awaiting finish of 6 more threads\n",
      "2019-04-18 12:10:40,448 : INFO : worker thread finished; awaiting finish of 5 more threads\n",
      "2019-04-18 12:10:40,460 : INFO : worker thread finished; awaiting finish of 4 more threads\n",
      "2019-04-18 12:10:40,460 : INFO : worker thread finished; awaiting finish of 3 more threads\n",
      "2019-04-18 12:10:40,488 : INFO : worker thread finished; awaiting finish of 2 more threads\n",
      "2019-04-18 12:10:40,500 : INFO : worker thread finished; awaiting finish of 1 more threads\n",
      "2019-04-18 12:10:40,504 : INFO : worker thread finished; awaiting finish of 0 more threads\n",
      "2019-04-18 12:10:40,508 : INFO : EPOCH - 6 : training on 9227204 raw words (8223428 effective words) took 17.5s, 471117 effective words/s\n",
      "2019-04-18 12:10:41,592 : INFO : EPOCH 7 - PROGRESS: at 3.03% examples, 233188 words/s, in_qsize 15, out_qsize 0\n",
      "2019-04-18 12:10:42,612 : INFO : EPOCH 7 - PROGRESS: at 7.60% examples, 298522 words/s, in_qsize 14, out_qsize 1\n"
     ]
    },
    {
     "name": "stderr",
     "output_type": "stream",
     "text": [
      "2019-04-18 12:10:43,624 : INFO : EPOCH 7 - PROGRESS: at 13.58% examples, 359002 words/s, in_qsize 15, out_qsize 0\n",
      "2019-04-18 12:10:44,652 : INFO : EPOCH 7 - PROGRESS: at 18.43% examples, 366936 words/s, in_qsize 15, out_qsize 0\n",
      "2019-04-18 12:10:45,661 : INFO : EPOCH 7 - PROGRESS: at 23.42% examples, 374703 words/s, in_qsize 15, out_qsize 0\n",
      "2019-04-18 12:10:46,664 : INFO : EPOCH 7 - PROGRESS: at 28.72% examples, 384520 words/s, in_qsize 15, out_qsize 0\n",
      "2019-04-18 12:10:47,680 : INFO : EPOCH 7 - PROGRESS: at 34.68% examples, 398059 words/s, in_qsize 15, out_qsize 0\n",
      "2019-04-18 12:10:48,732 : INFO : EPOCH 7 - PROGRESS: at 39.86% examples, 399383 words/s, in_qsize 15, out_qsize 0\n",
      "2019-04-18 12:10:49,742 : INFO : EPOCH 7 - PROGRESS: at 45.16% examples, 402950 words/s, in_qsize 16, out_qsize 0\n",
      "2019-04-18 12:10:50,756 : INFO : EPOCH 7 - PROGRESS: at 49.48% examples, 397877 words/s, in_qsize 14, out_qsize 1\n",
      "2019-04-18 12:10:51,779 : INFO : EPOCH 7 - PROGRESS: at 54.24% examples, 396551 words/s, in_qsize 14, out_qsize 0\n",
      "2019-04-18 12:10:52,882 : INFO : EPOCH 7 - PROGRESS: at 58.58% examples, 390102 words/s, in_qsize 12, out_qsize 5\n",
      "2019-04-18 12:10:53,885 : INFO : EPOCH 7 - PROGRESS: at 63.54% examples, 391402 words/s, in_qsize 15, out_qsize 0\n",
      "2019-04-18 12:10:54,929 : INFO : EPOCH 7 - PROGRESS: at 68.86% examples, 393410 words/s, in_qsize 15, out_qsize 0\n",
      "2019-04-18 12:10:55,953 : INFO : EPOCH 7 - PROGRESS: at 73.94% examples, 394350 words/s, in_qsize 15, out_qsize 0\n",
      "2019-04-18 12:10:57,061 : INFO : EPOCH 7 - PROGRESS: at 78.62% examples, 391102 words/s, in_qsize 14, out_qsize 1\n",
      "2019-04-18 12:10:58,076 : INFO : EPOCH 7 - PROGRESS: at 84.26% examples, 394829 words/s, in_qsize 16, out_qsize 0\n",
      "2019-04-18 12:10:59,092 : INFO : EPOCH 7 - PROGRESS: at 89.34% examples, 395797 words/s, in_qsize 16, out_qsize 0\n",
      "2019-04-18 12:11:00,101 : INFO : EPOCH 7 - PROGRESS: at 95.01% examples, 399031 words/s, in_qsize 15, out_qsize 0\n",
      "2019-04-18 12:11:00,814 : INFO : worker thread finished; awaiting finish of 7 more threads\n",
      "2019-04-18 12:11:00,845 : INFO : worker thread finished; awaiting finish of 6 more threads\n",
      "2019-04-18 12:11:00,861 : INFO : worker thread finished; awaiting finish of 5 more threads\n",
      "2019-04-18 12:11:00,872 : INFO : worker thread finished; awaiting finish of 4 more threads\n",
      "2019-04-18 12:11:00,893 : INFO : worker thread finished; awaiting finish of 3 more threads\n",
      "2019-04-18 12:11:00,913 : INFO : worker thread finished; awaiting finish of 2 more threads\n",
      "2019-04-18 12:11:00,921 : INFO : worker thread finished; awaiting finish of 1 more threads\n",
      "2019-04-18 12:11:00,921 : INFO : worker thread finished; awaiting finish of 0 more threads\n",
      "2019-04-18 12:11:00,921 : INFO : EPOCH - 7 : training on 9227204 raw words (8223310 effective words) took 20.4s, 403140 effective words/s\n",
      "2019-04-18 12:11:01,974 : INFO : EPOCH 8 - PROGRESS: at 5.54% examples, 433573 words/s, in_qsize 16, out_qsize 0\n",
      "2019-04-18 12:11:02,974 : INFO : EPOCH 8 - PROGRESS: at 11.19% examples, 447894 words/s, in_qsize 15, out_qsize 0\n",
      "2019-04-18 12:11:04,068 : INFO : EPOCH 8 - PROGRESS: at 16.92% examples, 444121 words/s, in_qsize 16, out_qsize 0\n",
      "2019-04-18 12:11:05,069 : INFO : EPOCH 8 - PROGRESS: at 22.54% examples, 448573 words/s, in_qsize 15, out_qsize 0\n",
      "2019-04-18 12:11:06,085 : INFO : EPOCH 8 - PROGRESS: at 27.96% examples, 445961 words/s, in_qsize 15, out_qsize 0\n",
      "2019-04-18 12:11:07,223 : INFO : EPOCH 8 - PROGRESS: at 34.24% examples, 447822 words/s, in_qsize 16, out_qsize 0\n",
      "2019-04-18 12:11:08,231 : INFO : EPOCH 8 - PROGRESS: at 39.00% examples, 439777 words/s, in_qsize 14, out_qsize 1\n",
      "2019-04-18 12:11:09,286 : INFO : EPOCH 8 - PROGRESS: at 42.89% examples, 422711 words/s, in_qsize 15, out_qsize 1\n",
      "2019-04-18 12:11:10,295 : INFO : EPOCH 8 - PROGRESS: at 48.94% examples, 429895 words/s, in_qsize 14, out_qsize 1\n",
      "2019-04-18 12:11:11,301 : INFO : EPOCH 8 - PROGRESS: at 54.35% examples, 431399 words/s, in_qsize 16, out_qsize 1\n",
      "2019-04-18 12:11:12,368 : INFO : EPOCH 8 - PROGRESS: at 60.41% examples, 434728 words/s, in_qsize 16, out_qsize 0\n",
      "2019-04-18 12:11:13,385 : INFO : EPOCH 8 - PROGRESS: at 66.80% examples, 441362 words/s, in_qsize 15, out_qsize 0\n",
      "2019-04-18 12:11:14,395 : INFO : EPOCH 8 - PROGRESS: at 72.32% examples, 441881 words/s, in_qsize 15, out_qsize 0\n",
      "2019-04-18 12:11:15,416 : INFO : EPOCH 8 - PROGRESS: at 78.84% examples, 447797 words/s, in_qsize 15, out_qsize 0\n",
      "2019-04-18 12:11:16,457 : INFO : EPOCH 8 - PROGRESS: at 84.59% examples, 448189 words/s, in_qsize 15, out_qsize 0\n",
      "2019-04-18 12:11:17,484 : INFO : EPOCH 8 - PROGRESS: at 91.09% examples, 452661 words/s, in_qsize 15, out_qsize 0\n",
      "2019-04-18 12:11:18,488 : INFO : EPOCH 8 - PROGRESS: at 96.75% examples, 453219 words/s, in_qsize 15, out_qsize 0\n",
      "2019-04-18 12:11:19,022 : INFO : worker thread finished; awaiting finish of 7 more threads\n",
      "2019-04-18 12:11:19,038 : INFO : worker thread finished; awaiting finish of 6 more threads\n",
      "2019-04-18 12:11:19,038 : INFO : worker thread finished; awaiting finish of 5 more threads\n",
      "2019-04-18 12:11:19,054 : INFO : worker thread finished; awaiting finish of 4 more threads\n",
      "2019-04-18 12:11:19,069 : INFO : worker thread finished; awaiting finish of 3 more threads\n",
      "2019-04-18 12:11:19,085 : INFO : worker thread finished; awaiting finish of 2 more threads\n",
      "2019-04-18 12:11:19,085 : INFO : worker thread finished; awaiting finish of 1 more threads\n",
      "2019-04-18 12:11:19,085 : INFO : worker thread finished; awaiting finish of 0 more threads\n",
      "2019-04-18 12:11:19,085 : INFO : EPOCH - 8 : training on 9227204 raw words (8222646 effective words) took 18.2s, 452858 effective words/s\n",
      "2019-04-18 12:11:20,143 : INFO : EPOCH 9 - PROGRESS: at 4.45% examples, 357686 words/s, in_qsize 15, out_qsize 0\n",
      "2019-04-18 12:11:21,188 : INFO : EPOCH 9 - PROGRESS: at 8.90% examples, 353517 words/s, in_qsize 16, out_qsize 0\n",
      "2019-04-18 12:11:22,208 : INFO : EPOCH 9 - PROGRESS: at 14.65% examples, 389673 words/s, in_qsize 14, out_qsize 1\n",
      "2019-04-18 12:11:23,265 : INFO : EPOCH 9 - PROGRESS: at 20.92% examples, 414090 words/s, in_qsize 15, out_qsize 0\n",
      "2019-04-18 12:11:24,278 : INFO : EPOCH 9 - PROGRESS: at 26.02% examples, 414637 words/s, in_qsize 15, out_qsize 1\n",
      "2019-04-18 12:11:25,410 : INFO : EPOCH 9 - PROGRESS: at 31.10% examples, 406528 words/s, in_qsize 15, out_qsize 1\n",
      "2019-04-18 12:11:26,445 : INFO : EPOCH 9 - PROGRESS: at 36.18% examples, 406123 words/s, in_qsize 16, out_qsize 0\n",
      "2019-04-18 12:11:27,492 : INFO : EPOCH 9 - PROGRESS: at 40.94% examples, 401859 words/s, in_qsize 13, out_qsize 2\n",
      "2019-04-18 12:11:28,567 : INFO : EPOCH 9 - PROGRESS: at 46.24% examples, 402692 words/s, in_qsize 16, out_qsize 0\n",
      "2019-04-18 12:11:29,582 : INFO : EPOCH 9 - PROGRESS: at 50.67% examples, 398534 words/s, in_qsize 13, out_qsize 2\n",
      "2019-04-18 12:11:30,582 : INFO : EPOCH 9 - PROGRESS: at 55.53% examples, 398682 words/s, in_qsize 15, out_qsize 0\n",
      "2019-04-18 12:11:31,598 : INFO : EPOCH 9 - PROGRESS: at 60.52% examples, 399060 words/s, in_qsize 15, out_qsize 0\n",
      "2019-04-18 12:11:32,634 : INFO : EPOCH 9 - PROGRESS: at 64.95% examples, 395579 words/s, in_qsize 13, out_qsize 2\n",
      "2019-04-18 12:11:33,634 : INFO : EPOCH 9 - PROGRESS: at 70.16% examples, 397766 words/s, in_qsize 15, out_qsize 0\n",
      "2019-04-18 12:11:34,646 : INFO : EPOCH 9 - PROGRESS: at 75.57% examples, 400530 words/s, in_qsize 15, out_qsize 0\n",
      "2019-04-18 12:11:35,666 : INFO : EPOCH 9 - PROGRESS: at 80.14% examples, 398409 words/s, in_qsize 13, out_qsize 2\n",
      "2019-04-18 12:11:36,673 : INFO : EPOCH 9 - PROGRESS: at 85.13% examples, 398918 words/s, in_qsize 15, out_qsize 0\n",
      "2019-04-18 12:11:37,689 : INFO : EPOCH 9 - PROGRESS: at 88.81% examples, 393414 words/s, in_qsize 16, out_qsize 0\n",
      "2019-04-18 12:11:38,749 : INFO : EPOCH 9 - PROGRESS: at 93.48% examples, 391654 words/s, in_qsize 16, out_qsize 1\n",
      "2019-04-18 12:11:39,785 : INFO : EPOCH 9 - PROGRESS: at 98.90% examples, 393618 words/s, in_qsize 10, out_qsize 1\n",
      "2019-04-18 12:11:39,877 : INFO : worker thread finished; awaiting finish of 7 more threads\n",
      "2019-04-18 12:11:39,897 : INFO : worker thread finished; awaiting finish of 6 more threads\n",
      "2019-04-18 12:11:39,917 : INFO : worker thread finished; awaiting finish of 5 more threads\n",
      "2019-04-18 12:11:39,917 : INFO : worker thread finished; awaiting finish of 4 more threads\n"
     ]
    },
    {
     "name": "stderr",
     "output_type": "stream",
     "text": [
      "2019-04-18 12:11:39,937 : INFO : worker thread finished; awaiting finish of 3 more threads\n",
      "2019-04-18 12:11:39,949 : INFO : worker thread finished; awaiting finish of 2 more threads\n",
      "2019-04-18 12:11:39,953 : INFO : worker thread finished; awaiting finish of 1 more threads\n",
      "2019-04-18 12:11:39,969 : INFO : worker thread finished; awaiting finish of 0 more threads\n",
      "2019-04-18 12:11:39,969 : INFO : EPOCH - 9 : training on 9227204 raw words (8222962 effective words) took 20.8s, 394455 effective words/s\n",
      "2019-04-18 12:11:41,000 : INFO : EPOCH 10 - PROGRESS: at 4.02% examples, 326906 words/s, in_qsize 15, out_qsize 0\n",
      "2019-04-18 12:11:42,048 : INFO : EPOCH 10 - PROGRESS: at 9.23% examples, 368435 words/s, in_qsize 16, out_qsize 1\n",
      "2019-04-18 12:11:43,066 : INFO : EPOCH 10 - PROGRESS: at 15.08% examples, 402779 words/s, in_qsize 16, out_qsize 1\n",
      "2019-04-18 12:11:44,137 : INFO : EPOCH 10 - PROGRESS: at 21.14% examples, 417945 words/s, in_qsize 16, out_qsize 0\n",
      "2019-04-18 12:11:45,224 : INFO : EPOCH 10 - PROGRESS: at 27.09% examples, 425603 words/s, in_qsize 15, out_qsize 0\n",
      "2019-04-18 12:11:46,275 : INFO : EPOCH 10 - PROGRESS: at 32.94% examples, 430971 words/s, in_qsize 13, out_qsize 2\n",
      "2019-04-18 12:11:47,277 : INFO : EPOCH 10 - PROGRESS: at 38.78% examples, 437727 words/s, in_qsize 14, out_qsize 1\n",
      "2019-04-18 12:11:48,285 : INFO : EPOCH 10 - PROGRESS: at 43.21% examples, 428624 words/s, in_qsize 11, out_qsize 5\n",
      "2019-04-18 12:11:49,325 : INFO : EPOCH 10 - PROGRESS: at 48.51% examples, 427595 words/s, in_qsize 15, out_qsize 0\n",
      "2019-04-18 12:11:50,328 : INFO : EPOCH 10 - PROGRESS: at 53.27% examples, 424126 words/s, in_qsize 12, out_qsize 4\n",
      "2019-04-18 12:11:51,365 : INFO : EPOCH 10 - PROGRESS: at 58.47% examples, 423028 words/s, in_qsize 16, out_qsize 0\n",
      "2019-04-18 12:11:52,385 : INFO : EPOCH 10 - PROGRESS: at 63.87% examples, 424042 words/s, in_qsize 15, out_qsize 0\n",
      "2019-04-18 12:11:53,393 : INFO : EPOCH 10 - PROGRESS: at 68.43% examples, 420086 words/s, in_qsize 16, out_qsize 3\n",
      "2019-04-18 12:11:54,406 : INFO : EPOCH 10 - PROGRESS: at 74.05% examples, 422765 words/s, in_qsize 12, out_qsize 3\n",
      "2019-04-18 12:11:55,418 : INFO : EPOCH 10 - PROGRESS: at 80.03% examples, 426720 words/s, in_qsize 15, out_qsize 0\n",
      "2019-04-18 12:11:56,451 : INFO : EPOCH 10 - PROGRESS: at 84.59% examples, 422728 words/s, in_qsize 15, out_qsize 0\n",
      "2019-04-18 12:11:57,471 : INFO : EPOCH 10 - PROGRESS: at 89.35% examples, 420465 words/s, in_qsize 11, out_qsize 4\n",
      "2019-04-18 12:11:58,507 : INFO : EPOCH 10 - PROGRESS: at 94.03% examples, 417614 words/s, in_qsize 16, out_qsize 1\n",
      "2019-04-18 12:11:59,523 : INFO : EPOCH 10 - PROGRESS: at 99.11% examples, 417326 words/s, in_qsize 9, out_qsize 0\n",
      "2019-04-18 12:11:59,547 : INFO : worker thread finished; awaiting finish of 7 more threads\n",
      "2019-04-18 12:11:59,551 : INFO : worker thread finished; awaiting finish of 6 more threads\n",
      "2019-04-18 12:11:59,551 : INFO : worker thread finished; awaiting finish of 5 more threads\n",
      "2019-04-18 12:11:59,555 : INFO : worker thread finished; awaiting finish of 4 more threads\n",
      "2019-04-18 12:11:59,559 : INFO : worker thread finished; awaiting finish of 3 more threads\n",
      "2019-04-18 12:11:59,567 : INFO : worker thread finished; awaiting finish of 2 more threads\n",
      "2019-04-18 12:11:59,575 : INFO : worker thread finished; awaiting finish of 1 more threads\n",
      "2019-04-18 12:11:59,595 : INFO : worker thread finished; awaiting finish of 0 more threads\n",
      "2019-04-18 12:11:59,595 : INFO : EPOCH - 10 : training on 9227204 raw words (8222383 effective words) took 19.6s, 419447 effective words/s\n",
      "2019-04-18 12:12:00,670 : INFO : EPOCH 11 - PROGRESS: at 4.01% examples, 311507 words/s, in_qsize 15, out_qsize 0\n",
      "2019-04-18 12:12:01,678 : INFO : EPOCH 11 - PROGRESS: at 9.88% examples, 393111 words/s, in_qsize 15, out_qsize 0\n",
      "2019-04-18 12:12:02,702 : INFO : EPOCH 11 - PROGRESS: at 16.05% examples, 427042 words/s, in_qsize 15, out_qsize 0\n",
      "2019-04-18 12:12:03,782 : INFO : EPOCH 11 - PROGRESS: at 22.01% examples, 434022 words/s, in_qsize 15, out_qsize 0\n",
      "2019-04-18 12:12:04,855 : INFO : EPOCH 11 - PROGRESS: at 28.07% examples, 440060 words/s, in_qsize 15, out_qsize 2\n",
      "2019-04-18 12:12:05,859 : INFO : EPOCH 11 - PROGRESS: at 33.92% examples, 446375 words/s, in_qsize 15, out_qsize 0\n",
      "2019-04-18 12:12:06,891 : INFO : EPOCH 11 - PROGRESS: at 39.43% examples, 445622 words/s, in_qsize 15, out_qsize 0\n",
      "2019-04-18 12:12:07,894 : INFO : EPOCH 11 - PROGRESS: at 45.48% examples, 451812 words/s, in_qsize 15, out_qsize 0\n",
      "2019-04-18 12:12:08,938 : INFO : EPOCH 11 - PROGRESS: at 51.21% examples, 451863 words/s, in_qsize 14, out_qsize 1\n",
      "2019-04-18 12:12:09,966 : INFO : EPOCH 11 - PROGRESS: at 56.84% examples, 451733 words/s, in_qsize 13, out_qsize 2\n",
      "2019-04-18 12:12:10,994 : INFO : EPOCH 11 - PROGRESS: at 62.57% examples, 452372 words/s, in_qsize 14, out_qsize 1\n",
      "2019-04-18 12:12:12,010 : INFO : EPOCH 11 - PROGRESS: at 67.45% examples, 447694 words/s, in_qsize 16, out_qsize 0\n",
      "2019-04-18 12:12:13,077 : INFO : EPOCH 11 - PROGRESS: at 73.62% examples, 449884 words/s, in_qsize 15, out_qsize 0\n",
      "2019-04-18 12:12:14,093 : INFO : EPOCH 11 - PROGRESS: at 79.49% examples, 451470 words/s, in_qsize 15, out_qsize 0\n",
      "2019-04-18 12:12:15,109 : INFO : EPOCH 11 - PROGRESS: at 85.13% examples, 451752 words/s, in_qsize 16, out_qsize 0\n",
      "2019-04-18 12:12:16,117 : INFO : EPOCH 11 - PROGRESS: at 91.31% examples, 454934 words/s, in_qsize 15, out_qsize 0\n",
      "2019-04-18 12:12:17,127 : INFO : EPOCH 11 - PROGRESS: at 96.96% examples, 455176 words/s, in_qsize 14, out_qsize 1\n",
      "2019-04-18 12:12:17,523 : INFO : worker thread finished; awaiting finish of 7 more threads\n",
      "2019-04-18 12:12:17,539 : INFO : worker thread finished; awaiting finish of 6 more threads\n",
      "2019-04-18 12:12:17,539 : INFO : worker thread finished; awaiting finish of 5 more threads\n",
      "2019-04-18 12:12:17,543 : INFO : worker thread finished; awaiting finish of 4 more threads\n",
      "2019-04-18 12:12:17,547 : INFO : worker thread finished; awaiting finish of 3 more threads\n",
      "2019-04-18 12:12:17,571 : INFO : worker thread finished; awaiting finish of 2 more threads\n",
      "2019-04-18 12:12:17,579 : INFO : worker thread finished; awaiting finish of 1 more threads\n",
      "2019-04-18 12:12:17,583 : INFO : worker thread finished; awaiting finish of 0 more threads\n",
      "2019-04-18 12:12:17,583 : INFO : EPOCH - 11 : training on 9227204 raw words (8221281 effective words) took 18.0s, 457491 effective words/s\n",
      "2019-04-18 12:12:18,609 : INFO : EPOCH 12 - PROGRESS: at 5.43% examples, 441486 words/s, in_qsize 15, out_qsize 0\n",
      "2019-04-18 12:12:19,616 : INFO : EPOCH 12 - PROGRESS: at 11.08% examples, 450940 words/s, in_qsize 15, out_qsize 0\n",
      "2019-04-18 12:12:20,660 : INFO : EPOCH 12 - PROGRESS: at 16.48% examples, 442736 words/s, in_qsize 15, out_qsize 0\n",
      "2019-04-18 12:12:21,660 : INFO : EPOCH 12 - PROGRESS: at 21.79% examples, 441118 words/s, in_qsize 15, out_qsize 0\n",
      "2019-04-18 12:12:22,673 : INFO : EPOCH 12 - PROGRESS: at 27.53% examples, 446291 words/s, in_qsize 15, out_qsize 0\n",
      "2019-04-18 12:12:23,752 : INFO : EPOCH 12 - PROGRESS: at 33.37% examples, 446204 words/s, in_qsize 15, out_qsize 0\n",
      "2019-04-18 12:12:24,800 : INFO : EPOCH 12 - PROGRESS: at 39.43% examples, 450547 words/s, in_qsize 15, out_qsize 0\n",
      "2019-04-18 12:12:25,812 : INFO : EPOCH 12 - PROGRESS: at 45.26% examples, 453497 words/s, in_qsize 12, out_qsize 3\n",
      "2019-04-18 12:12:26,822 : INFO : EPOCH 12 - PROGRESS: at 51.21% examples, 457110 words/s, in_qsize 15, out_qsize 0\n",
      "2019-04-18 12:12:27,841 : INFO : EPOCH 12 - PROGRESS: at 57.60% examples, 462962 words/s, in_qsize 15, out_qsize 0\n",
      "2019-04-18 12:12:28,857 : INFO : EPOCH 12 - PROGRESS: at 63.32% examples, 463091 words/s, in_qsize 15, out_qsize 0\n",
      "2019-04-18 12:12:29,865 : INFO : EPOCH 12 - PROGRESS: at 68.86% examples, 462075 words/s, in_qsize 16, out_qsize 0\n",
      "2019-04-18 12:12:30,939 : INFO : EPOCH 12 - PROGRESS: at 74.59% examples, 460228 words/s, in_qsize 15, out_qsize 0\n",
      "2019-04-18 12:12:32,031 : INFO : EPOCH 12 - PROGRESS: at 80.68% examples, 459985 words/s, in_qsize 15, out_qsize 0\n",
      "2019-04-18 12:12:33,038 : INFO : EPOCH 12 - PROGRESS: at 86.09% examples, 458769 words/s, in_qsize 10, out_qsize 5\n",
      "2019-04-18 12:12:34,046 : INFO : EPOCH 12 - PROGRESS: at 92.50% examples, 462640 words/s, in_qsize 15, out_qsize 0\n"
     ]
    },
    {
     "name": "stderr",
     "output_type": "stream",
     "text": [
      "2019-04-18 12:12:35,058 : INFO : EPOCH 12 - PROGRESS: at 96.74% examples, 455781 words/s, in_qsize 15, out_qsize 0\n",
      "2019-04-18 12:12:35,470 : INFO : worker thread finished; awaiting finish of 7 more threads\n",
      "2019-04-18 12:12:35,474 : INFO : worker thread finished; awaiting finish of 6 more threads\n",
      "2019-04-18 12:12:35,506 : INFO : worker thread finished; awaiting finish of 5 more threads\n",
      "2019-04-18 12:12:35,510 : INFO : worker thread finished; awaiting finish of 4 more threads\n",
      "2019-04-18 12:12:35,538 : INFO : worker thread finished; awaiting finish of 3 more threads\n",
      "2019-04-18 12:12:35,538 : INFO : worker thread finished; awaiting finish of 2 more threads\n",
      "2019-04-18 12:12:35,542 : INFO : worker thread finished; awaiting finish of 1 more threads\n",
      "2019-04-18 12:12:35,558 : INFO : worker thread finished; awaiting finish of 0 more threads\n",
      "2019-04-18 12:12:35,558 : INFO : EPOCH - 12 : training on 9227204 raw words (8223868 effective words) took 18.0s, 457929 effective words/s\n",
      "2019-04-18 12:12:36,590 : INFO : EPOCH 13 - PROGRESS: at 4.67% examples, 376984 words/s, in_qsize 15, out_qsize 0\n",
      "2019-04-18 12:12:37,662 : INFO : EPOCH 13 - PROGRESS: at 10.86% examples, 427191 words/s, in_qsize 15, out_qsize 0\n",
      "2019-04-18 12:12:38,741 : INFO : EPOCH 13 - PROGRESS: at 17.02% examples, 441892 words/s, in_qsize 16, out_qsize 0\n",
      "2019-04-18 12:12:39,785 : INFO : EPOCH 13 - PROGRESS: at 22.76% examples, 444527 words/s, in_qsize 13, out_qsize 2\n",
      "2019-04-18 12:12:40,813 : INFO : EPOCH 13 - PROGRESS: at 28.61% examples, 449030 words/s, in_qsize 16, out_qsize 0\n",
      "2019-04-18 12:12:41,845 : INFO : EPOCH 13 - PROGRESS: at 34.89% examples, 457627 words/s, in_qsize 15, out_qsize 0\n",
      "2019-04-18 12:12:42,849 : INFO : EPOCH 13 - PROGRESS: at 40.51% examples, 458214 words/s, in_qsize 14, out_qsize 1\n",
      "2019-04-18 12:12:43,864 : INFO : EPOCH 13 - PROGRESS: at 46.13% examples, 457755 words/s, in_qsize 14, out_qsize 1\n",
      "2019-04-18 12:12:44,880 : INFO : EPOCH 13 - PROGRESS: at 51.86% examples, 458688 words/s, in_qsize 15, out_qsize 0\n",
      "2019-04-18 12:12:45,900 : INFO : EPOCH 13 - PROGRESS: at 57.16% examples, 455761 words/s, in_qsize 16, out_qsize 4\n",
      "2019-04-18 12:12:46,904 : INFO : EPOCH 13 - PROGRESS: at 63.43% examples, 460911 words/s, in_qsize 14, out_qsize 1\n",
      "2019-04-18 12:12:47,933 : INFO : EPOCH 13 - PROGRESS: at 68.43% examples, 455637 words/s, in_qsize 15, out_qsize 0\n",
      "2019-04-18 12:12:48,945 : INFO : EPOCH 13 - PROGRESS: at 72.64% examples, 447163 words/s, in_qsize 15, out_qsize 0\n",
      "2019-04-18 12:12:49,952 : INFO : EPOCH 13 - PROGRESS: at 77.53% examples, 443761 words/s, in_qsize 16, out_qsize 0\n",
      "2019-04-18 12:12:50,980 : INFO : EPOCH 13 - PROGRESS: at 82.31% examples, 439485 words/s, in_qsize 14, out_qsize 1\n",
      "2019-04-18 12:12:52,004 : INFO : EPOCH 13 - PROGRESS: at 87.07% examples, 436006 words/s, in_qsize 16, out_qsize 0\n",
      "2019-04-18 12:12:53,116 : INFO : EPOCH 13 - PROGRESS: at 92.72% examples, 434781 words/s, in_qsize 14, out_qsize 1\n",
      "2019-04-18 12:12:54,143 : INFO : EPOCH 13 - PROGRESS: at 98.90% examples, 438037 words/s, in_qsize 11, out_qsize 0\n",
      "2019-04-18 12:12:54,191 : INFO : worker thread finished; awaiting finish of 7 more threads\n",
      "2019-04-18 12:12:54,195 : INFO : worker thread finished; awaiting finish of 6 more threads\n",
      "2019-04-18 12:12:54,199 : INFO : worker thread finished; awaiting finish of 5 more threads\n",
      "2019-04-18 12:12:54,203 : INFO : worker thread finished; awaiting finish of 4 more threads\n",
      "2019-04-18 12:12:54,203 : INFO : worker thread finished; awaiting finish of 3 more threads\n",
      "2019-04-18 12:12:54,215 : INFO : worker thread finished; awaiting finish of 2 more threads\n",
      "2019-04-18 12:12:54,235 : INFO : worker thread finished; awaiting finish of 1 more threads\n",
      "2019-04-18 12:12:54,247 : INFO : worker thread finished; awaiting finish of 0 more threads\n",
      "2019-04-18 12:12:54,251 : INFO : EPOCH - 13 : training on 9227204 raw words (8222695 effective words) took 18.7s, 440342 effective words/s\n",
      "2019-04-18 12:12:55,277 : INFO : EPOCH 14 - PROGRESS: at 5.00% examples, 404830 words/s, in_qsize 15, out_qsize 0\n",
      "2019-04-18 12:12:56,330 : INFO : EPOCH 14 - PROGRESS: at 10.75% examples, 427399 words/s, in_qsize 14, out_qsize 1\n",
      "2019-04-18 12:12:57,329 : INFO : EPOCH 14 - PROGRESS: at 15.08% examples, 404099 words/s, in_qsize 15, out_qsize 0\n",
      "2019-04-18 12:12:58,368 : INFO : EPOCH 14 - PROGRESS: at 20.16% examples, 403660 words/s, in_qsize 15, out_qsize 0\n",
      "2019-04-18 12:12:59,372 : INFO : EPOCH 14 - PROGRESS: at 24.61% examples, 395902 words/s, in_qsize 12, out_qsize 3\n",
      "2019-04-18 12:13:00,420 : INFO : EPOCH 14 - PROGRESS: at 28.72% examples, 383533 words/s, in_qsize 16, out_qsize 0\n",
      "2019-04-18 12:13:01,431 : INFO : EPOCH 14 - PROGRESS: at 33.38% examples, 382889 words/s, in_qsize 15, out_qsize 1\n",
      "2019-04-18 12:13:02,493 : INFO : EPOCH 14 - PROGRESS: at 39.11% examples, 390868 words/s, in_qsize 16, out_qsize 0\n",
      "2019-04-18 12:13:03,493 : INFO : EPOCH 14 - PROGRESS: at 44.73% examples, 398604 words/s, in_qsize 16, out_qsize 0\n",
      "2019-04-18 12:13:04,509 : INFO : EPOCH 14 - PROGRESS: at 48.62% examples, 390530 words/s, in_qsize 15, out_qsize 0\n",
      "2019-04-18 12:13:05,553 : INFO : EPOCH 14 - PROGRESS: at 54.13% examples, 394621 words/s, in_qsize 15, out_qsize 0\n",
      "2019-04-18 12:13:06,555 : INFO : EPOCH 14 - PROGRESS: at 59.34% examples, 397333 words/s, in_qsize 12, out_qsize 4\n",
      "2019-04-18 12:13:07,566 : INFO : EPOCH 14 - PROGRESS: at 64.95% examples, 401894 words/s, in_qsize 11, out_qsize 4\n",
      "2019-04-18 12:13:08,578 : INFO : EPOCH 14 - PROGRESS: at 70.70% examples, 406479 words/s, in_qsize 16, out_qsize 0\n",
      "2019-04-18 12:13:09,614 : INFO : EPOCH 14 - PROGRESS: at 76.88% examples, 412144 words/s, in_qsize 16, out_qsize 1\n",
      "2019-04-18 12:13:10,642 : INFO : EPOCH 14 - PROGRESS: at 82.96% examples, 416728 words/s, in_qsize 15, out_qsize 0\n",
      "2019-04-18 12:13:11,685 : INFO : EPOCH 14 - PROGRESS: at 88.81% examples, 419320 words/s, in_qsize 15, out_qsize 0\n",
      "2019-04-18 12:13:12,730 : INFO : EPOCH 14 - PROGRESS: at 94.68% examples, 421597 words/s, in_qsize 15, out_qsize 0\n",
      "2019-04-18 12:13:13,502 : INFO : worker thread finished; awaiting finish of 7 more threads\n",
      "2019-04-18 12:13:13,502 : INFO : worker thread finished; awaiting finish of 6 more threads\n",
      "2019-04-18 12:13:13,506 : INFO : worker thread finished; awaiting finish of 5 more threads\n",
      "2019-04-18 12:13:13,522 : INFO : worker thread finished; awaiting finish of 4 more threads\n",
      "2019-04-18 12:13:13,526 : INFO : worker thread finished; awaiting finish of 3 more threads\n",
      "2019-04-18 12:13:13,534 : INFO : worker thread finished; awaiting finish of 2 more threads\n",
      "2019-04-18 12:13:13,542 : INFO : worker thread finished; awaiting finish of 1 more threads\n",
      "2019-04-18 12:13:13,554 : INFO : worker thread finished; awaiting finish of 0 more threads\n",
      "2019-04-18 12:13:13,554 : INFO : EPOCH - 14 : training on 9227204 raw words (8222150 effective words) took 19.3s, 426284 effective words/s\n",
      "2019-04-18 12:13:14,574 : INFO : EPOCH 15 - PROGRESS: at 5.32% examples, 433624 words/s, in_qsize 14, out_qsize 1\n",
      "2019-04-18 12:13:15,594 : INFO : EPOCH 15 - PROGRESS: at 11.40% examples, 462175 words/s, in_qsize 13, out_qsize 2\n",
      "2019-04-18 12:13:16,638 : INFO : EPOCH 15 - PROGRESS: at 17.02% examples, 455854 words/s, in_qsize 16, out_qsize 0\n",
      "2019-04-18 12:13:17,645 : INFO : EPOCH 15 - PROGRESS: at 22.33% examples, 450201 words/s, in_qsize 13, out_qsize 2\n",
      "2019-04-18 12:13:18,677 : INFO : EPOCH 15 - PROGRESS: at 27.75% examples, 446291 words/s, in_qsize 16, out_qsize 0\n",
      "2019-04-18 12:13:19,769 : INFO : EPOCH 15 - PROGRESS: at 32.19% examples, 426857 words/s, in_qsize 15, out_qsize 0\n",
      "2019-04-18 12:13:20,839 : INFO : EPOCH 15 - PROGRESS: at 37.27% examples, 421388 words/s, in_qsize 16, out_qsize 0\n",
      "2019-04-18 12:13:21,882 : INFO : EPOCH 15 - PROGRESS: at 42.57% examples, 421059 words/s, in_qsize 15, out_qsize 0\n",
      "2019-04-18 12:13:22,934 : INFO : EPOCH 15 - PROGRESS: at 47.54% examples, 417511 words/s, in_qsize 10, out_qsize 5\n",
      "2019-04-18 12:13:23,954 : INFO : EPOCH 15 - PROGRESS: at 52.62% examples, 416884 words/s, in_qsize 15, out_qsize 1\n",
      "2019-04-18 12:13:24,970 : INFO : EPOCH 15 - PROGRESS: at 58.26% examples, 420467 words/s, in_qsize 15, out_qsize 0\n",
      "2019-04-18 12:13:25,982 : INFO : EPOCH 15 - PROGRESS: at 63.97% examples, 424112 words/s, in_qsize 13, out_qsize 4\n"
     ]
    },
    {
     "name": "stderr",
     "output_type": "stream",
     "text": [
      "2019-04-18 12:13:26,984 : INFO : EPOCH 15 - PROGRESS: at 69.50% examples, 426312 words/s, in_qsize 15, out_qsize 0\n",
      "2019-04-18 12:13:28,004 : INFO : EPOCH 15 - PROGRESS: at 73.94% examples, 421537 words/s, in_qsize 16, out_qsize 0\n",
      "2019-04-18 12:13:29,012 : INFO : EPOCH 15 - PROGRESS: at 79.27% examples, 422190 words/s, in_qsize 15, out_qsize 0\n",
      "2019-04-18 12:13:30,032 : INFO : EPOCH 15 - PROGRESS: at 84.80% examples, 423650 words/s, in_qsize 15, out_qsize 0\n",
      "2019-04-18 12:13:31,042 : INFO : EPOCH 15 - PROGRESS: at 90.87% examples, 427737 words/s, in_qsize 14, out_qsize 1\n",
      "2019-04-18 12:13:32,088 : INFO : EPOCH 15 - PROGRESS: at 96.75% examples, 429471 words/s, in_qsize 15, out_qsize 0\n",
      "2019-04-18 12:13:32,560 : INFO : worker thread finished; awaiting finish of 7 more threads\n",
      "2019-04-18 12:13:32,564 : INFO : worker thread finished; awaiting finish of 6 more threads\n",
      "2019-04-18 12:13:32,568 : INFO : worker thread finished; awaiting finish of 5 more threads\n",
      "2019-04-18 12:13:32,568 : INFO : worker thread finished; awaiting finish of 4 more threads\n",
      "2019-04-18 12:13:32,572 : INFO : worker thread finished; awaiting finish of 3 more threads\n",
      "2019-04-18 12:13:32,584 : INFO : worker thread finished; awaiting finish of 2 more threads\n",
      "2019-04-18 12:13:32,592 : INFO : worker thread finished; awaiting finish of 1 more threads\n",
      "2019-04-18 12:13:32,616 : INFO : worker thread finished; awaiting finish of 0 more threads\n",
      "2019-04-18 12:13:32,616 : INFO : EPOCH - 15 : training on 9227204 raw words (8222147 effective words) took 19.0s, 431678 effective words/s\n",
      "2019-04-18 12:13:33,659 : INFO : EPOCH 16 - PROGRESS: at 5.11% examples, 407612 words/s, in_qsize 16, out_qsize 1\n",
      "2019-04-18 12:13:34,723 : INFO : EPOCH 16 - PROGRESS: at 10.42% examples, 409479 words/s, in_qsize 13, out_qsize 2\n",
      "2019-04-18 12:13:35,727 : INFO : EPOCH 16 - PROGRESS: at 15.52% examples, 411880 words/s, in_qsize 15, out_qsize 0\n",
      "2019-04-18 12:13:36,799 : INFO : EPOCH 16 - PROGRESS: at 21.24% examples, 419341 words/s, in_qsize 15, out_qsize 0\n",
      "2019-04-18 12:13:37,806 : INFO : EPOCH 16 - PROGRESS: at 27.53% examples, 437553 words/s, in_qsize 15, out_qsize 0\n",
      "2019-04-18 12:13:38,826 : INFO : EPOCH 16 - PROGRESS: at 31.97% examples, 424409 words/s, in_qsize 12, out_qsize 3\n",
      "2019-04-18 12:13:39,906 : INFO : EPOCH 16 - PROGRESS: at 37.48% examples, 423814 words/s, in_qsize 16, out_qsize 0\n",
      "2019-04-18 12:13:40,918 : INFO : EPOCH 16 - PROGRESS: at 41.81% examples, 415025 words/s, in_qsize 16, out_qsize 0\n",
      "2019-04-18 12:13:41,931 : INFO : EPOCH 16 - PROGRESS: at 47.65% examples, 421536 words/s, in_qsize 15, out_qsize 0\n",
      "2019-04-18 12:13:42,939 : INFO : EPOCH 16 - PROGRESS: at 52.40% examples, 418427 words/s, in_qsize 15, out_qsize 0\n",
      "2019-04-18 12:13:44,014 : INFO : EPOCH 16 - PROGRESS: at 57.71% examples, 417359 words/s, in_qsize 16, out_qsize 3\n",
      "2019-04-18 12:13:45,030 : INFO : EPOCH 16 - PROGRESS: at 64.08% examples, 425455 words/s, in_qsize 15, out_qsize 0\n",
      "2019-04-18 12:13:46,034 : INFO : EPOCH 16 - PROGRESS: at 69.50% examples, 426915 words/s, in_qsize 16, out_qsize 4\n",
      "2019-04-18 12:13:47,054 : INFO : EPOCH 16 - PROGRESS: at 75.57% examples, 431289 words/s, in_qsize 15, out_qsize 0\n",
      "2019-04-18 12:13:48,172 : INFO : EPOCH 16 - PROGRESS: at 81.45% examples, 431167 words/s, in_qsize 12, out_qsize 5\n",
      "2019-04-18 12:13:49,200 : INFO : EPOCH 16 - PROGRESS: at 87.29% examples, 433497 words/s, in_qsize 16, out_qsize 0\n",
      "2019-04-18 12:13:50,208 : INFO : EPOCH 16 - PROGRESS: at 93.05% examples, 435406 words/s, in_qsize 15, out_qsize 1\n",
      "2019-04-18 12:13:51,220 : INFO : EPOCH 16 - PROGRESS: at 98.69% examples, 436657 words/s, in_qsize 12, out_qsize 1\n",
      "2019-04-18 12:13:51,383 : INFO : worker thread finished; awaiting finish of 7 more threads\n",
      "2019-04-18 12:13:51,387 : INFO : worker thread finished; awaiting finish of 6 more threads\n",
      "2019-04-18 12:13:51,391 : INFO : worker thread finished; awaiting finish of 5 more threads\n",
      "2019-04-18 12:13:51,391 : INFO : worker thread finished; awaiting finish of 4 more threads\n",
      "2019-04-18 12:13:51,395 : INFO : worker thread finished; awaiting finish of 3 more threads\n",
      "2019-04-18 12:13:51,419 : INFO : worker thread finished; awaiting finish of 2 more threads\n",
      "2019-04-18 12:13:51,419 : INFO : worker thread finished; awaiting finish of 1 more threads\n",
      "2019-04-18 12:13:51,455 : INFO : worker thread finished; awaiting finish of 0 more threads\n",
      "2019-04-18 12:13:51,455 : INFO : EPOCH - 16 : training on 9227204 raw words (8223175 effective words) took 18.8s, 436912 effective words/s\n",
      "2019-04-18 12:13:52,502 : INFO : EPOCH 17 - PROGRESS: at 4.34% examples, 348960 words/s, in_qsize 15, out_qsize 0\n",
      "2019-04-18 12:13:53,529 : INFO : EPOCH 17 - PROGRESS: at 9.88% examples, 395658 words/s, in_qsize 15, out_qsize 0\n",
      "2019-04-18 12:13:54,533 : INFO : EPOCH 17 - PROGRESS: at 15.73% examples, 423043 words/s, in_qsize 15, out_qsize 0\n",
      "2019-04-18 12:13:55,561 : INFO : EPOCH 17 - PROGRESS: at 21.79% examples, 438653 words/s, in_qsize 14, out_qsize 1\n",
      "2019-04-18 12:13:56,589 : INFO : EPOCH 17 - PROGRESS: at 27.64% examples, 444585 words/s, in_qsize 14, out_qsize 1\n",
      "2019-04-18 12:13:57,604 : INFO : EPOCH 17 - PROGRESS: at 32.52% examples, 436525 words/s, in_qsize 13, out_qsize 2\n",
      "2019-04-18 12:13:58,604 : INFO : EPOCH 17 - PROGRESS: at 38.57% examples, 445144 words/s, in_qsize 14, out_qsize 1\n",
      "2019-04-18 12:13:59,652 : INFO : EPOCH 17 - PROGRESS: at 43.00% examples, 432876 words/s, in_qsize 15, out_qsize 0\n",
      "2019-04-18 12:14:00,672 : INFO : EPOCH 17 - PROGRESS: at 47.97% examples, 429393 words/s, in_qsize 16, out_qsize 0\n",
      "2019-04-18 12:14:01,679 : INFO : EPOCH 17 - PROGRESS: at 54.24% examples, 437692 words/s, in_qsize 15, out_qsize 0\n",
      "2019-04-18 12:14:02,683 : INFO : EPOCH 17 - PROGRESS: at 59.34% examples, 435881 words/s, in_qsize 15, out_qsize 0\n",
      "2019-04-18 12:14:03,723 : INFO : EPOCH 17 - PROGRESS: at 65.17% examples, 438122 words/s, in_qsize 15, out_qsize 0\n",
      "2019-04-18 12:14:04,778 : INFO : EPOCH 17 - PROGRESS: at 71.13% examples, 440134 words/s, in_qsize 16, out_qsize 0\n",
      "2019-04-18 12:14:05,785 : INFO : EPOCH 17 - PROGRESS: at 76.77% examples, 441512 words/s, in_qsize 14, out_qsize 1\n",
      "2019-04-18 12:14:06,792 : INFO : EPOCH 17 - PROGRESS: at 81.88% examples, 439845 words/s, in_qsize 16, out_qsize 0\n",
      "2019-04-18 12:14:07,860 : INFO : EPOCH 17 - PROGRESS: at 86.42% examples, 433940 words/s, in_qsize 15, out_qsize 0\n",
      "2019-04-18 12:14:08,864 : INFO : EPOCH 17 - PROGRESS: at 90.87% examples, 429874 words/s, in_qsize 15, out_qsize 0\n",
      "2019-04-18 12:14:09,876 : INFO : EPOCH 17 - PROGRESS: at 96.21% examples, 429947 words/s, in_qsize 16, out_qsize 0\n",
      "2019-04-18 12:14:10,487 : INFO : worker thread finished; awaiting finish of 7 more threads\n",
      "2019-04-18 12:14:10,491 : INFO : worker thread finished; awaiting finish of 6 more threads\n",
      "2019-04-18 12:14:10,495 : INFO : worker thread finished; awaiting finish of 5 more threads\n",
      "2019-04-18 12:14:10,495 : INFO : worker thread finished; awaiting finish of 4 more threads\n",
      "2019-04-18 12:14:10,499 : INFO : worker thread finished; awaiting finish of 3 more threads\n",
      "2019-04-18 12:14:10,499 : INFO : worker thread finished; awaiting finish of 2 more threads\n",
      "2019-04-18 12:14:10,511 : INFO : worker thread finished; awaiting finish of 1 more threads\n",
      "2019-04-18 12:14:10,523 : INFO : worker thread finished; awaiting finish of 0 more threads\n",
      "2019-04-18 12:14:10,528 : INFO : EPOCH - 17 : training on 9227204 raw words (8221342 effective words) took 19.0s, 431696 effective words/s\n",
      "2019-04-18 12:14:11,547 : INFO : EPOCH 18 - PROGRESS: at 4.78% examples, 391351 words/s, in_qsize 13, out_qsize 2\n",
      "2019-04-18 12:14:12,575 : INFO : EPOCH 18 - PROGRESS: at 9.88% examples, 400199 words/s, in_qsize 15, out_qsize 1\n",
      "2019-04-18 12:14:13,627 : INFO : EPOCH 18 - PROGRESS: at 15.41% examples, 410738 words/s, in_qsize 15, out_qsize 0\n",
      "2019-04-18 12:14:14,638 : INFO : EPOCH 18 - PROGRESS: at 20.81% examples, 418021 words/s, in_qsize 15, out_qsize 0\n",
      "2019-04-18 12:14:15,678 : INFO : EPOCH 18 - PROGRESS: at 27.10% examples, 434188 words/s, in_qsize 15, out_qsize 0\n",
      "2019-04-18 12:14:16,748 : INFO : EPOCH 18 - PROGRESS: at 33.27% examples, 440924 words/s, in_qsize 14, out_qsize 1\n",
      "2019-04-18 12:14:17,792 : INFO : EPOCH 18 - PROGRESS: at 39.22% examples, 445234 words/s, in_qsize 15, out_qsize 0\n"
     ]
    },
    {
     "name": "stderr",
     "output_type": "stream",
     "text": [
      "2019-04-18 12:14:18,804 : INFO : EPOCH 18 - PROGRESS: at 44.94% examples, 447612 words/s, in_qsize 15, out_qsize 0\n",
      "2019-04-18 12:14:19,816 : INFO : EPOCH 18 - PROGRESS: at 50.67% examples, 449738 words/s, in_qsize 13, out_qsize 2\n",
      "2019-04-18 12:14:20,864 : INFO : EPOCH 18 - PROGRESS: at 55.32% examples, 441345 words/s, in_qsize 15, out_qsize 0\n",
      "2019-04-18 12:14:21,911 : INFO : EPOCH 18 - PROGRESS: at 60.19% examples, 435841 words/s, in_qsize 15, out_qsize 0\n",
      "2019-04-18 12:14:22,905 : INFO : EPOCH 18 - PROGRESS: at 65.61% examples, 436414 words/s, in_qsize 14, out_qsize 1\n",
      "2019-04-18 12:14:23,960 : INFO : EPOCH 18 - PROGRESS: at 70.48% examples, 432310 words/s, in_qsize 15, out_qsize 0\n",
      "2019-04-18 12:14:24,956 : INFO : EPOCH 18 - PROGRESS: at 76.66% examples, 437430 words/s, in_qsize 14, out_qsize 1\n",
      "2019-04-18 12:14:26,017 : INFO : EPOCH 18 - PROGRESS: at 81.56% examples, 433234 words/s, in_qsize 15, out_qsize 0\n",
      "2019-04-18 12:14:27,031 : INFO : EPOCH 18 - PROGRESS: at 86.32% examples, 430454 words/s, in_qsize 15, out_qsize 0\n",
      "2019-04-18 12:14:28,064 : INFO : EPOCH 18 - PROGRESS: at 91.63% examples, 430026 words/s, in_qsize 14, out_qsize 1\n",
      "2019-04-18 12:14:29,078 : INFO : EPOCH 18 - PROGRESS: at 96.96% examples, 430047 words/s, in_qsize 15, out_qsize 0\n",
      "2019-04-18 12:14:29,576 : INFO : worker thread finished; awaiting finish of 7 more threads\n",
      "2019-04-18 12:14:29,622 : INFO : worker thread finished; awaiting finish of 6 more threads\n",
      "2019-04-18 12:14:29,622 : INFO : worker thread finished; awaiting finish of 5 more threads\n",
      "2019-04-18 12:14:29,622 : INFO : worker thread finished; awaiting finish of 4 more threads\n",
      "2019-04-18 12:14:29,622 : INFO : worker thread finished; awaiting finish of 3 more threads\n",
      "2019-04-18 12:14:29,638 : INFO : worker thread finished; awaiting finish of 2 more threads\n",
      "2019-04-18 12:14:29,638 : INFO : worker thread finished; awaiting finish of 1 more threads\n",
      "2019-04-18 12:14:29,654 : INFO : worker thread finished; awaiting finish of 0 more threads\n",
      "2019-04-18 12:14:29,654 : INFO : EPOCH - 18 : training on 9227204 raw words (8221828 effective words) took 19.1s, 430158 effective words/s\n",
      "2019-04-18 12:14:30,724 : INFO : EPOCH 19 - PROGRESS: at 5.43% examples, 428001 words/s, in_qsize 15, out_qsize 0\n",
      "2019-04-18 12:14:31,750 : INFO : EPOCH 19 - PROGRESS: at 11.51% examples, 457409 words/s, in_qsize 15, out_qsize 0\n",
      "2019-04-18 12:14:32,756 : INFO : EPOCH 19 - PROGRESS: at 17.35% examples, 463087 words/s, in_qsize 16, out_qsize 0\n",
      "2019-04-18 12:14:33,824 : INFO : EPOCH 19 - PROGRESS: at 23.84% examples, 471912 words/s, in_qsize 15, out_qsize 0\n",
      "2019-04-18 12:14:34,841 : INFO : EPOCH 19 - PROGRESS: at 29.81% examples, 474533 words/s, in_qsize 16, out_qsize 1\n",
      "2019-04-18 12:14:35,871 : INFO : EPOCH 19 - PROGRESS: at 36.29% examples, 481965 words/s, in_qsize 15, out_qsize 0\n",
      "2019-04-18 12:14:36,908 : INFO : EPOCH 19 - PROGRESS: at 41.80% examples, 475223 words/s, in_qsize 15, out_qsize 0\n",
      "2019-04-18 12:14:37,928 : INFO : EPOCH 19 - PROGRESS: at 47.75% examples, 476528 words/s, in_qsize 16, out_qsize 0\n",
      "2019-04-18 12:14:38,960 : INFO : EPOCH 19 - PROGRESS: at 52.95% examples, 469145 words/s, in_qsize 15, out_qsize 0\n",
      "2019-04-18 12:14:40,002 : INFO : EPOCH 19 - PROGRESS: at 59.44% examples, 473690 words/s, in_qsize 16, out_qsize 0\n",
      "2019-04-18 12:14:41,027 : INFO : EPOCH 19 - PROGRESS: at 65.93% examples, 478045 words/s, in_qsize 15, out_qsize 0\n",
      "2019-04-18 12:14:42,052 : INFO : EPOCH 19 - PROGRESS: at 71.67% examples, 476537 words/s, in_qsize 15, out_qsize 0\n",
      "2019-04-18 12:14:43,084 : INFO : EPOCH 19 - PROGRESS: at 77.96% examples, 478463 words/s, in_qsize 14, out_qsize 1\n",
      "2019-04-18 12:14:44,096 : INFO : EPOCH 19 - PROGRESS: at 83.72% examples, 477831 words/s, in_qsize 15, out_qsize 0\n",
      "2019-04-18 12:14:45,096 : INFO : EPOCH 19 - PROGRESS: at 89.23% examples, 475931 words/s, in_qsize 15, out_qsize 0\n",
      "2019-04-18 12:14:46,136 : INFO : EPOCH 19 - PROGRESS: at 94.80% examples, 473535 words/s, in_qsize 15, out_qsize 0\n",
      "2019-04-18 12:14:46,896 : INFO : worker thread finished; awaiting finish of 7 more threads\n",
      "2019-04-18 12:14:46,896 : INFO : worker thread finished; awaiting finish of 6 more threads\n",
      "2019-04-18 12:14:46,896 : INFO : worker thread finished; awaiting finish of 5 more threads\n",
      "2019-04-18 12:14:46,912 : INFO : worker thread finished; awaiting finish of 4 more threads\n",
      "2019-04-18 12:14:46,928 : INFO : worker thread finished; awaiting finish of 3 more threads\n",
      "2019-04-18 12:14:46,940 : INFO : worker thread finished; awaiting finish of 2 more threads\n",
      "2019-04-18 12:14:46,952 : INFO : worker thread finished; awaiting finish of 1 more threads\n",
      "2019-04-18 12:14:46,972 : INFO : worker thread finished; awaiting finish of 0 more threads\n",
      "2019-04-18 12:14:46,972 : INFO : EPOCH - 19 : training on 9227204 raw words (8223422 effective words) took 17.3s, 475623 effective words/s\n",
      "2019-04-18 12:14:48,087 : INFO : EPOCH 20 - PROGRESS: at 3.69% examples, 278065 words/s, in_qsize 15, out_qsize 0\n",
      "2019-04-18 12:14:49,204 : INFO : EPOCH 20 - PROGRESS: at 9.45% examples, 351187 words/s, in_qsize 15, out_qsize 1\n",
      "2019-04-18 12:14:50,231 : INFO : EPOCH 20 - PROGRESS: at 15.08% examples, 382879 words/s, in_qsize 16, out_qsize 0\n",
      "2019-04-18 12:14:51,355 : INFO : EPOCH 20 - PROGRESS: at 21.14% examples, 398540 words/s, in_qsize 15, out_qsize 0\n",
      "2019-04-18 12:14:52,387 : INFO : EPOCH 20 - PROGRESS: at 26.34% examples, 401561 words/s, in_qsize 15, out_qsize 0\n",
      "2019-04-18 12:14:53,395 : INFO : EPOCH 20 - PROGRESS: at 32.09% examples, 412172 words/s, in_qsize 16, out_qsize 0\n",
      "2019-04-18 12:14:54,419 : INFO : EPOCH 20 - PROGRESS: at 37.37% examples, 414018 words/s, in_qsize 16, out_qsize 0\n",
      "2019-04-18 12:14:55,508 : INFO : EPOCH 20 - PROGRESS: at 42.67% examples, 412449 words/s, in_qsize 16, out_qsize 1\n",
      "2019-04-18 12:14:56,551 : INFO : EPOCH 20 - PROGRESS: at 48.29% examples, 415940 words/s, in_qsize 15, out_qsize 0\n",
      "2019-04-18 12:14:57,575 : INFO : EPOCH 20 - PROGRESS: at 53.05% examples, 412755 words/s, in_qsize 16, out_qsize 0\n",
      "2019-04-18 12:14:58,599 : INFO : EPOCH 20 - PROGRESS: at 58.36% examples, 414069 words/s, in_qsize 15, out_qsize 1\n",
      "2019-04-18 12:14:59,603 : INFO : EPOCH 20 - PROGRESS: at 63.33% examples, 413591 words/s, in_qsize 14, out_qsize 1\n",
      "2019-04-18 12:15:00,680 : INFO : EPOCH 20 - PROGRESS: at 68.43% examples, 411547 words/s, in_qsize 16, out_qsize 0\n",
      "2019-04-18 12:15:01,784 : INFO : EPOCH 20 - PROGRESS: at 72.97% examples, 406136 words/s, in_qsize 13, out_qsize 2\n",
      "2019-04-18 12:15:02,816 : INFO : EPOCH 20 - PROGRESS: at 77.63% examples, 403804 words/s, in_qsize 15, out_qsize 0\n",
      "2019-04-18 12:15:03,820 : INFO : EPOCH 20 - PROGRESS: at 81.66% examples, 399338 words/s, in_qsize 15, out_qsize 0\n",
      "2019-04-18 12:15:04,871 : INFO : EPOCH 20 - PROGRESS: at 85.34% examples, 392767 words/s, in_qsize 15, out_qsize 0\n",
      "2019-04-18 12:15:05,903 : INFO : EPOCH 20 - PROGRESS: at 89.02% examples, 387346 words/s, in_qsize 15, out_qsize 0\n",
      "2019-04-18 12:15:06,913 : INFO : EPOCH 20 - PROGRESS: at 93.05% examples, 384282 words/s, in_qsize 16, out_qsize 3\n",
      "2019-04-18 12:15:07,929 : INFO : EPOCH 20 - PROGRESS: at 98.68% examples, 387718 words/s, in_qsize 13, out_qsize 0\n",
      "2019-04-18 12:15:08,113 : INFO : worker thread finished; awaiting finish of 7 more threads\n",
      "2019-04-18 12:15:08,117 : INFO : worker thread finished; awaiting finish of 6 more threads\n",
      "2019-04-18 12:15:08,145 : INFO : worker thread finished; awaiting finish of 5 more threads\n",
      "2019-04-18 12:15:08,145 : INFO : worker thread finished; awaiting finish of 4 more threads\n",
      "2019-04-18 12:15:08,165 : INFO : worker thread finished; awaiting finish of 3 more threads\n",
      "2019-04-18 12:15:08,193 : INFO : worker thread finished; awaiting finish of 2 more threads\n",
      "2019-04-18 12:15:08,201 : INFO : worker thread finished; awaiting finish of 1 more threads\n",
      "2019-04-18 12:15:08,225 : INFO : worker thread finished; awaiting finish of 0 more threads\n",
      "2019-04-18 12:15:08,225 : INFO : EPOCH - 20 : training on 9227204 raw words (8223480 effective words) took 21.2s, 387386 effective words/s\n",
      "2019-04-18 12:15:09,256 : INFO : EPOCH 21 - PROGRESS: at 4.45% examples, 363505 words/s, in_qsize 12, out_qsize 3\n",
      "2019-04-18 12:15:10,260 : INFO : EPOCH 21 - PROGRESS: at 9.45% examples, 385468 words/s, in_qsize 15, out_qsize 0\n"
     ]
    },
    {
     "name": "stderr",
     "output_type": "stream",
     "text": [
      "2019-04-18 12:15:11,268 : INFO : EPOCH 21 - PROGRESS: at 15.19% examples, 413584 words/s, in_qsize 15, out_qsize 0\n",
      "2019-04-18 12:15:12,318 : INFO : EPOCH 21 - PROGRESS: at 19.84% examples, 400718 words/s, in_qsize 15, out_qsize 0\n",
      "2019-04-18 12:15:13,325 : INFO : EPOCH 21 - PROGRESS: at 24.72% examples, 400428 words/s, in_qsize 15, out_qsize 2\n",
      "2019-04-18 12:15:14,325 : INFO : EPOCH 21 - PROGRESS: at 28.94% examples, 391549 words/s, in_qsize 15, out_qsize 0\n",
      "2019-04-18 12:15:15,349 : INFO : EPOCH 21 - PROGRESS: at 34.35% examples, 397955 words/s, in_qsize 15, out_qsize 0\n",
      "2019-04-18 12:15:16,365 : INFO : EPOCH 21 - PROGRESS: at 39.97% examples, 405228 words/s, in_qsize 14, out_qsize 1\n",
      "2019-04-18 12:15:17,380 : INFO : EPOCH 21 - PROGRESS: at 44.94% examples, 404869 words/s, in_qsize 16, out_qsize 0\n",
      "2019-04-18 12:15:18,393 : INFO : EPOCH 21 - PROGRESS: at 50.13% examples, 406669 words/s, in_qsize 16, out_qsize 0\n",
      "2019-04-18 12:15:19,420 : INFO : EPOCH 21 - PROGRESS: at 55.10% examples, 405967 words/s, in_qsize 15, out_qsize 1\n",
      "2019-04-18 12:15:20,422 : INFO : EPOCH 21 - PROGRESS: at 59.97% examples, 405514 words/s, in_qsize 14, out_qsize 1\n",
      "2019-04-18 12:15:21,450 : INFO : EPOCH 21 - PROGRESS: at 65.39% examples, 407725 words/s, in_qsize 15, out_qsize 0\n",
      "2019-04-18 12:15:22,538 : INFO : EPOCH 21 - PROGRESS: at 70.05% examples, 403517 words/s, in_qsize 15, out_qsize 2\n",
      "2019-04-18 12:15:23,646 : INFO : EPOCH 21 - PROGRESS: at 75.14% examples, 401579 words/s, in_qsize 16, out_qsize 0\n",
      "2019-04-18 12:15:24,684 : INFO : EPOCH 21 - PROGRESS: at 80.47% examples, 402766 words/s, in_qsize 15, out_qsize 0\n",
      "2019-04-18 12:15:25,763 : INFO : EPOCH 21 - PROGRESS: at 85.56% examples, 401908 words/s, in_qsize 15, out_qsize 0\n",
      "2019-04-18 12:15:26,763 : INFO : EPOCH 21 - PROGRESS: at 91.09% examples, 404719 words/s, in_qsize 15, out_qsize 0\n",
      "2019-04-18 12:15:27,819 : INFO : EPOCH 21 - PROGRESS: at 96.21% examples, 404250 words/s, in_qsize 16, out_qsize 0\n",
      "2019-04-18 12:15:28,511 : INFO : worker thread finished; awaiting finish of 7 more threads\n",
      "2019-04-18 12:15:28,523 : INFO : worker thread finished; awaiting finish of 6 more threads\n",
      "2019-04-18 12:15:28,535 : INFO : worker thread finished; awaiting finish of 5 more threads\n",
      "2019-04-18 12:15:28,543 : INFO : worker thread finished; awaiting finish of 4 more threads\n",
      "2019-04-18 12:15:28,547 : INFO : worker thread finished; awaiting finish of 3 more threads\n",
      "2019-04-18 12:15:28,555 : INFO : worker thread finished; awaiting finish of 2 more threads\n",
      "2019-04-18 12:15:28,571 : INFO : worker thread finished; awaiting finish of 1 more threads\n",
      "2019-04-18 12:15:28,587 : INFO : worker thread finished; awaiting finish of 0 more threads\n",
      "2019-04-18 12:15:28,587 : INFO : EPOCH - 21 : training on 9227204 raw words (8223353 effective words) took 20.3s, 404383 effective words/s\n",
      "2019-04-18 12:15:29,633 : INFO : EPOCH 22 - PROGRESS: at 3.80% examples, 302526 words/s, in_qsize 13, out_qsize 2\n",
      "2019-04-18 12:15:30,645 : INFO : EPOCH 22 - PROGRESS: at 9.66% examples, 389094 words/s, in_qsize 15, out_qsize 0\n",
      "2019-04-18 12:15:31,649 : INFO : EPOCH 22 - PROGRESS: at 15.19% examples, 409651 words/s, in_qsize 15, out_qsize 0\n",
      "2019-04-18 12:15:32,673 : INFO : EPOCH 22 - PROGRESS: at 19.51% examples, 394109 words/s, in_qsize 14, out_qsize 1\n",
      "2019-04-18 12:15:33,684 : INFO : EPOCH 22 - PROGRESS: at 23.52% examples, 380573 words/s, in_qsize 14, out_qsize 1\n",
      "2019-04-18 12:15:34,704 : INFO : EPOCH 22 - PROGRESS: at 28.29% examples, 381219 words/s, in_qsize 14, out_qsize 1\n",
      "2019-04-18 12:15:35,772 : INFO : EPOCH 22 - PROGRESS: at 32.94% examples, 377813 words/s, in_qsize 15, out_qsize 0\n",
      "2019-04-18 12:15:36,777 : INFO : EPOCH 22 - PROGRESS: at 37.70% examples, 378843 words/s, in_qsize 16, out_qsize 0\n",
      "2019-04-18 12:15:37,808 : INFO : EPOCH 22 - PROGRESS: at 43.43% examples, 388162 words/s, in_qsize 16, out_qsize 2\n",
      "2019-04-18 12:15:38,823 : INFO : EPOCH 22 - PROGRESS: at 48.73% examples, 392177 words/s, in_qsize 12, out_qsize 3\n",
      "2019-04-18 12:15:39,839 : INFO : EPOCH 22 - PROGRESS: at 54.67% examples, 400502 words/s, in_qsize 15, out_qsize 0\n",
      "2019-04-18 12:15:40,840 : INFO : EPOCH 22 - PROGRESS: at 59.76% examples, 401950 words/s, in_qsize 15, out_qsize 0\n",
      "2019-04-18 12:15:41,866 : INFO : EPOCH 22 - PROGRESS: at 65.17% examples, 404087 words/s, in_qsize 13, out_qsize 2\n",
      "2019-04-18 12:15:42,886 : INFO : EPOCH 22 - PROGRESS: at 70.16% examples, 403946 words/s, in_qsize 15, out_qsize 0\n",
      "2019-04-18 12:15:43,908 : INFO : EPOCH 22 - PROGRESS: at 75.67% examples, 406585 words/s, in_qsize 15, out_qsize 0\n",
      "2019-04-18 12:15:44,925 : INFO : EPOCH 22 - PROGRESS: at 81.23% examples, 409298 words/s, in_qsize 14, out_qsize 1\n",
      "2019-04-18 12:15:45,954 : INFO : EPOCH 22 - PROGRESS: at 85.34% examples, 404516 words/s, in_qsize 15, out_qsize 1\n",
      "2019-04-18 12:15:46,962 : INFO : EPOCH 22 - PROGRESS: at 90.00% examples, 403116 words/s, in_qsize 15, out_qsize 0\n",
      "2019-04-18 12:15:47,992 : INFO : EPOCH 22 - PROGRESS: at 94.79% examples, 401968 words/s, in_qsize 15, out_qsize 0\n",
      "2019-04-18 12:15:48,917 : INFO : worker thread finished; awaiting finish of 7 more threads\n",
      "2019-04-18 12:15:48,932 : INFO : worker thread finished; awaiting finish of 6 more threads\n",
      "2019-04-18 12:15:48,932 : INFO : worker thread finished; awaiting finish of 5 more threads\n",
      "2019-04-18 12:15:48,932 : INFO : worker thread finished; awaiting finish of 4 more threads\n",
      "2019-04-18 12:15:48,932 : INFO : worker thread finished; awaiting finish of 3 more threads\n",
      "2019-04-18 12:15:48,932 : INFO : worker thread finished; awaiting finish of 2 more threads\n",
      "2019-04-18 12:15:48,952 : INFO : worker thread finished; awaiting finish of 1 more threads\n",
      "2019-04-18 12:15:48,972 : INFO : worker thread finished; awaiting finish of 0 more threads\n",
      "2019-04-18 12:15:48,972 : INFO : EPOCH - 22 : training on 9227204 raw words (8222300 effective words) took 20.4s, 403515 effective words/s\n",
      "2019-04-18 12:15:50,005 : INFO : EPOCH 23 - PROGRESS: at 3.58% examples, 292009 words/s, in_qsize 15, out_qsize 0\n",
      "2019-04-18 12:15:51,003 : INFO : EPOCH 23 - PROGRESS: at 8.69% examples, 354568 words/s, in_qsize 15, out_qsize 0\n",
      "2019-04-18 12:15:52,107 : INFO : EPOCH 23 - PROGRESS: at 14.32% examples, 378886 words/s, in_qsize 16, out_qsize 0\n",
      "2019-04-18 12:15:53,153 : INFO : EPOCH 23 - PROGRESS: at 19.73% examples, 390087 words/s, in_qsize 12, out_qsize 3\n",
      "2019-04-18 12:15:54,236 : INFO : EPOCH 23 - PROGRESS: at 24.61% examples, 385940 words/s, in_qsize 16, out_qsize 0\n",
      "2019-04-18 12:15:55,246 : INFO : EPOCH 23 - PROGRESS: at 29.59% examples, 389450 words/s, in_qsize 14, out_qsize 1\n",
      "2019-04-18 12:15:56,247 : INFO : EPOCH 23 - PROGRESS: at 33.70% examples, 382091 words/s, in_qsize 15, out_qsize 0\n",
      "2019-04-18 12:15:57,310 : INFO : EPOCH 23 - PROGRESS: at 38.35% examples, 379425 words/s, in_qsize 15, out_qsize 0\n",
      "2019-04-18 12:15:58,320 : INFO : EPOCH 23 - PROGRESS: at 42.89% examples, 378443 words/s, in_qsize 16, out_qsize 0\n",
      "2019-04-18 12:15:59,361 : INFO : EPOCH 23 - PROGRESS: at 47.54% examples, 377596 words/s, in_qsize 16, out_qsize 0\n",
      "2019-04-18 12:16:00,464 : INFO : EPOCH 23 - PROGRESS: at 52.29% examples, 375278 words/s, in_qsize 16, out_qsize 0\n",
      "2019-04-18 12:16:01,480 : INFO : EPOCH 23 - PROGRESS: at 57.49% examples, 379045 words/s, in_qsize 15, out_qsize 0\n",
      "2019-04-18 12:16:02,482 : INFO : EPOCH 23 - PROGRESS: at 62.03% examples, 378565 words/s, in_qsize 15, out_qsize 0\n",
      "2019-04-18 12:16:03,507 : INFO : EPOCH 23 - PROGRESS: at 66.91% examples, 379654 words/s, in_qsize 15, out_qsize 0\n",
      "2019-04-18 12:16:04,516 : INFO : EPOCH 23 - PROGRESS: at 72.75% examples, 385712 words/s, in_qsize 14, out_qsize 1\n",
      "2019-04-18 12:16:05,529 : INFO : EPOCH 23 - PROGRESS: at 78.07% examples, 388705 words/s, in_qsize 16, out_qsize 0\n",
      "2019-04-18 12:16:06,539 : INFO : EPOCH 23 - PROGRESS: at 83.40% examples, 391258 words/s, in_qsize 14, out_qsize 1\n",
      "2019-04-18 12:16:07,560 : INFO : EPOCH 23 - PROGRESS: at 88.59% examples, 392760 words/s, in_qsize 15, out_qsize 0\n",
      "2019-04-18 12:16:08,560 : INFO : EPOCH 23 - PROGRESS: at 94.03% examples, 395375 words/s, in_qsize 15, out_qsize 0\n",
      "2019-04-18 12:16:09,504 : INFO : worker thread finished; awaiting finish of 7 more threads\n",
      "2019-04-18 12:16:09,535 : INFO : worker thread finished; awaiting finish of 6 more threads\n"
     ]
    },
    {
     "name": "stderr",
     "output_type": "stream",
     "text": [
      "2019-04-18 12:16:09,535 : INFO : worker thread finished; awaiting finish of 5 more threads\n",
      "2019-04-18 12:16:09,535 : INFO : worker thread finished; awaiting finish of 4 more threads\n",
      "2019-04-18 12:16:09,551 : INFO : worker thread finished; awaiting finish of 3 more threads\n",
      "2019-04-18 12:16:09,566 : INFO : EPOCH 23 - PROGRESS: at 99.78% examples, 398953 words/s, in_qsize 2, out_qsize 1\n",
      "2019-04-18 12:16:09,566 : INFO : worker thread finished; awaiting finish of 2 more threads\n",
      "2019-04-18 12:16:09,597 : INFO : worker thread finished; awaiting finish of 1 more threads\n",
      "2019-04-18 12:16:09,613 : INFO : worker thread finished; awaiting finish of 0 more threads\n",
      "2019-04-18 12:16:09,613 : INFO : EPOCH - 23 : training on 9227204 raw words (8222645 effective words) took 20.6s, 399010 effective words/s\n",
      "2019-04-18 12:16:10,736 : INFO : EPOCH 24 - PROGRESS: at 5.22% examples, 404479 words/s, in_qsize 15, out_qsize 0\n",
      "2019-04-18 12:16:11,777 : INFO : EPOCH 24 - PROGRESS: at 10.53% examples, 413612 words/s, in_qsize 15, out_qsize 0\n",
      "2019-04-18 12:16:12,819 : INFO : EPOCH 24 - PROGRESS: at 16.16% examples, 423599 words/s, in_qsize 15, out_qsize 0\n",
      "2019-04-18 12:16:13,823 : INFO : EPOCH 24 - PROGRESS: at 21.57% examples, 427252 words/s, in_qsize 12, out_qsize 3\n",
      "2019-04-18 12:16:14,844 : INFO : EPOCH 24 - PROGRESS: at 26.89% examples, 428369 words/s, in_qsize 16, out_qsize 0\n",
      "2019-04-18 12:16:15,877 : INFO : EPOCH 24 - PROGRESS: at 32.84% examples, 435732 words/s, in_qsize 15, out_qsize 0\n",
      "2019-04-18 12:16:16,918 : INFO : EPOCH 24 - PROGRESS: at 38.24% examples, 434931 words/s, in_qsize 15, out_qsize 0\n",
      "2019-04-18 12:16:17,912 : INFO : EPOCH 24 - PROGRESS: at 43.64% examples, 436036 words/s, in_qsize 11, out_qsize 4\n",
      "2019-04-18 12:16:18,924 : INFO : EPOCH 24 - PROGRESS: at 49.17% examples, 437807 words/s, in_qsize 15, out_qsize 0\n",
      "2019-04-18 12:16:19,930 : INFO : EPOCH 24 - PROGRESS: at 54.56% examples, 438371 words/s, in_qsize 15, out_qsize 0\n",
      "2019-04-18 12:16:20,959 : INFO : EPOCH 24 - PROGRESS: at 60.41% examples, 440645 words/s, in_qsize 16, out_qsize 0\n",
      "2019-04-18 12:16:21,980 : INFO : EPOCH 24 - PROGRESS: at 65.49% examples, 438184 words/s, in_qsize 15, out_qsize 0\n",
      "2019-04-18 12:16:23,012 : INFO : EPOCH 24 - PROGRESS: at 71.24% examples, 439711 words/s, in_qsize 16, out_qsize 0\n",
      "2019-04-18 12:16:24,018 : INFO : EPOCH 24 - PROGRESS: at 76.66% examples, 440041 words/s, in_qsize 16, out_qsize 0\n",
      "2019-04-18 12:16:25,059 : INFO : EPOCH 24 - PROGRESS: at 82.20% examples, 439840 words/s, in_qsize 15, out_qsize 0\n",
      "2019-04-18 12:16:26,116 : INFO : EPOCH 24 - PROGRESS: at 87.94% examples, 440188 words/s, in_qsize 16, out_qsize 0\n",
      "2019-04-18 12:16:27,120 : INFO : EPOCH 24 - PROGRESS: at 93.15% examples, 439265 words/s, in_qsize 15, out_qsize 0\n",
      "2019-04-18 12:16:28,133 : INFO : EPOCH 24 - PROGRESS: at 99.22% examples, 442194 words/s, in_qsize 7, out_qsize 2\n",
      "2019-04-18 12:16:28,133 : INFO : worker thread finished; awaiting finish of 7 more threads\n",
      "2019-04-18 12:16:28,164 : INFO : worker thread finished; awaiting finish of 6 more threads\n",
      "2019-04-18 12:16:28,168 : INFO : worker thread finished; awaiting finish of 5 more threads\n",
      "2019-04-18 12:16:28,168 : INFO : worker thread finished; awaiting finish of 4 more threads\n",
      "2019-04-18 12:16:28,208 : INFO : worker thread finished; awaiting finish of 3 more threads\n",
      "2019-04-18 12:16:28,208 : INFO : worker thread finished; awaiting finish of 2 more threads\n",
      "2019-04-18 12:16:28,229 : INFO : worker thread finished; awaiting finish of 1 more threads\n",
      "2019-04-18 12:16:28,244 : INFO : worker thread finished; awaiting finish of 0 more threads\n",
      "2019-04-18 12:16:28,244 : INFO : EPOCH - 24 : training on 9227204 raw words (8222864 effective words) took 18.6s, 442978 effective words/s\n",
      "2019-04-18 12:16:29,301 : INFO : EPOCH 25 - PROGRESS: at 4.45% examples, 358592 words/s, in_qsize 13, out_qsize 2\n",
      "2019-04-18 12:16:30,301 : INFO : EPOCH 25 - PROGRESS: at 10.53% examples, 426901 words/s, in_qsize 15, out_qsize 0\n",
      "2019-04-18 12:16:31,307 : INFO : EPOCH 25 - PROGRESS: at 15.73% examples, 425424 words/s, in_qsize 16, out_qsize 0\n",
      "2019-04-18 12:16:32,357 : INFO : EPOCH 25 - PROGRESS: at 20.81% examples, 419826 words/s, in_qsize 16, out_qsize 0\n",
      "2019-04-18 12:16:33,357 : INFO : EPOCH 25 - PROGRESS: at 25.80% examples, 417789 words/s, in_qsize 15, out_qsize 0\n",
      "2019-04-18 12:16:34,412 : INFO : EPOCH 25 - PROGRESS: at 30.35% examples, 407082 words/s, in_qsize 16, out_qsize 0\n",
      "2019-04-18 12:16:35,420 : INFO : EPOCH 25 - PROGRESS: at 35.43% examples, 408259 words/s, in_qsize 16, out_qsize 4\n",
      "2019-04-18 12:16:36,476 : INFO : EPOCH 25 - PROGRESS: at 40.62% examples, 407726 words/s, in_qsize 15, out_qsize 1\n",
      "2019-04-18 12:16:37,492 : INFO : EPOCH 25 - PROGRESS: at 45.81% examples, 409252 words/s, in_qsize 15, out_qsize 0\n",
      "2019-04-18 12:16:38,507 : INFO : EPOCH 25 - PROGRESS: at 51.32% examples, 413022 words/s, in_qsize 15, out_qsize 0\n",
      "2019-04-18 12:16:39,611 : INFO : EPOCH 25 - PROGRESS: at 56.73% examples, 412102 words/s, in_qsize 15, out_qsize 0\n",
      "2019-04-18 12:16:40,611 : INFO : EPOCH 25 - PROGRESS: at 61.07% examples, 407530 words/s, in_qsize 14, out_qsize 1\n",
      "2019-04-18 12:16:41,639 : INFO : EPOCH 25 - PROGRESS: at 66.47% examples, 409489 words/s, in_qsize 15, out_qsize 0\n",
      "2019-04-18 12:16:42,666 : INFO : EPOCH 25 - PROGRESS: at 71.45% examples, 408710 words/s, in_qsize 15, out_qsize 0\n",
      "2019-04-18 12:16:43,778 : INFO : EPOCH 25 - PROGRESS: at 75.78% examples, 402392 words/s, in_qsize 16, out_qsize 0\n",
      "2019-04-18 12:16:44,834 : INFO : EPOCH 25 - PROGRESS: at 80.36% examples, 399377 words/s, in_qsize 15, out_qsize 0\n",
      "2019-04-18 12:16:45,846 : INFO : EPOCH 25 - PROGRESS: at 85.45% examples, 400168 words/s, in_qsize 15, out_qsize 0\n",
      "2019-04-18 12:16:46,941 : INFO : EPOCH 25 - PROGRESS: at 90.11% examples, 397246 words/s, in_qsize 13, out_qsize 6\n",
      "2019-04-18 12:16:47,945 : INFO : EPOCH 25 - PROGRESS: at 95.12% examples, 397716 words/s, in_qsize 15, out_qsize 0\n",
      "2019-04-18 12:16:48,793 : INFO : worker thread finished; awaiting finish of 7 more threads\n",
      "2019-04-18 12:16:48,813 : INFO : worker thread finished; awaiting finish of 6 more threads\n",
      "2019-04-18 12:16:48,833 : INFO : worker thread finished; awaiting finish of 5 more threads\n",
      "2019-04-18 12:16:48,861 : INFO : worker thread finished; awaiting finish of 4 more threads\n",
      "2019-04-18 12:16:48,865 : INFO : worker thread finished; awaiting finish of 3 more threads\n",
      "2019-04-18 12:16:48,873 : INFO : worker thread finished; awaiting finish of 2 more threads\n",
      "2019-04-18 12:16:48,877 : INFO : worker thread finished; awaiting finish of 1 more threads\n",
      "2019-04-18 12:16:48,901 : INFO : worker thread finished; awaiting finish of 0 more threads\n",
      "2019-04-18 12:16:48,901 : INFO : EPOCH - 25 : training on 9227204 raw words (8222708 effective words) took 20.6s, 398766 effective words/s\n",
      "2019-04-18 12:16:49,949 : INFO : EPOCH 26 - PROGRESS: at 4.02% examples, 321585 words/s, in_qsize 16, out_qsize 0\n",
      "2019-04-18 12:16:50,956 : INFO : EPOCH 26 - PROGRESS: at 9.23% examples, 372368 words/s, in_qsize 15, out_qsize 0\n",
      "2019-04-18 12:16:51,988 : INFO : EPOCH 26 - PROGRESS: at 13.68% examples, 366179 words/s, in_qsize 14, out_qsize 1\n",
      "2019-04-18 12:16:53,000 : INFO : EPOCH 26 - PROGRESS: at 18.54% examples, 373620 words/s, in_qsize 15, out_qsize 0\n",
      "2019-04-18 12:16:54,008 : INFO : EPOCH 26 - PROGRESS: at 23.09% examples, 373284 words/s, in_qsize 16, out_qsize 0\n",
      "2019-04-18 12:16:55,019 : INFO : EPOCH 26 - PROGRESS: at 27.86% examples, 375698 words/s, in_qsize 15, out_qsize 0\n",
      "2019-04-18 12:16:56,035 : INFO : EPOCH 26 - PROGRESS: at 32.73% examples, 378321 words/s, in_qsize 15, out_qsize 0\n",
      "2019-04-18 12:16:57,143 : INFO : EPOCH 26 - PROGRESS: at 37.27% examples, 372948 words/s, in_qsize 16, out_qsize 0\n",
      "2019-04-18 12:16:58,158 : INFO : EPOCH 26 - PROGRESS: at 42.89% examples, 382102 words/s, in_qsize 15, out_qsize 0\n",
      "2019-04-18 12:16:59,182 : INFO : EPOCH 26 - PROGRESS: at 47.97% examples, 384649 words/s, in_qsize 16, out_qsize 0\n",
      "2019-04-18 12:17:00,270 : INFO : EPOCH 26 - PROGRESS: at 52.95% examples, 383922 words/s, in_qsize 15, out_qsize 0\n",
      "2019-04-18 12:17:01,270 : INFO : EPOCH 26 - PROGRESS: at 58.58% examples, 390360 words/s, in_qsize 15, out_qsize 0\n",
      "2019-04-18 12:17:02,329 : INFO : EPOCH 26 - PROGRESS: at 63.87% examples, 392156 words/s, in_qsize 16, out_qsize 0\n"
     ]
    },
    {
     "name": "stderr",
     "output_type": "stream",
     "text": [
      "2019-04-18 12:17:03,377 : INFO : EPOCH 26 - PROGRESS: at 69.29% examples, 394500 words/s, in_qsize 15, out_qsize 0\n",
      "2019-04-18 12:17:04,389 : INFO : EPOCH 26 - PROGRESS: at 73.94% examples, 393458 words/s, in_qsize 14, out_qsize 1\n",
      "2019-04-18 12:17:05,417 : INFO : EPOCH 26 - PROGRESS: at 79.16% examples, 394809 words/s, in_qsize 16, out_qsize 0\n",
      "2019-04-18 12:17:06,480 : INFO : EPOCH 26 - PROGRESS: at 84.80% examples, 397288 words/s, in_qsize 16, out_qsize 0\n",
      "2019-04-18 12:17:07,484 : INFO : EPOCH 26 - PROGRESS: at 89.13% examples, 394998 words/s, in_qsize 16, out_qsize 0\n",
      "2019-04-18 12:17:08,504 : INFO : EPOCH 26 - PROGRESS: at 93.69% examples, 393468 words/s, in_qsize 15, out_qsize 0\n",
      "2019-04-18 12:17:09,512 : INFO : EPOCH 26 - PROGRESS: at 98.25% examples, 392365 words/s, in_qsize 16, out_qsize 0\n",
      "2019-04-18 12:17:09,760 : INFO : worker thread finished; awaiting finish of 7 more threads\n",
      "2019-04-18 12:17:09,768 : INFO : worker thread finished; awaiting finish of 6 more threads\n",
      "2019-04-18 12:17:09,772 : INFO : worker thread finished; awaiting finish of 5 more threads\n",
      "2019-04-18 12:17:09,792 : INFO : worker thread finished; awaiting finish of 4 more threads\n",
      "2019-04-18 12:17:09,800 : INFO : worker thread finished; awaiting finish of 3 more threads\n",
      "2019-04-18 12:17:09,800 : INFO : worker thread finished; awaiting finish of 2 more threads\n",
      "2019-04-18 12:17:09,812 : INFO : worker thread finished; awaiting finish of 1 more threads\n",
      "2019-04-18 12:17:09,824 : INFO : worker thread finished; awaiting finish of 0 more threads\n",
      "2019-04-18 12:17:09,828 : INFO : EPOCH - 26 : training on 9227204 raw words (8221551 effective words) took 20.9s, 393343 effective words/s\n",
      "2019-04-18 12:17:10,915 : INFO : EPOCH 27 - PROGRESS: at 4.45% examples, 341487 words/s, in_qsize 15, out_qsize 0\n",
      "2019-04-18 12:17:11,943 : INFO : EPOCH 27 - PROGRESS: at 9.55% examples, 373789 words/s, in_qsize 16, out_qsize 2\n",
      "2019-04-18 12:17:12,975 : INFO : EPOCH 27 - PROGRESS: at 14.33% examples, 376053 words/s, in_qsize 15, out_qsize 0\n",
      "2019-04-18 12:17:14,066 : INFO : EPOCH 27 - PROGRESS: at 18.54% examples, 361110 words/s, in_qsize 15, out_qsize 0\n",
      "2019-04-18 12:17:15,114 : INFO : EPOCH 27 - PROGRESS: at 23.74% examples, 370406 words/s, in_qsize 15, out_qsize 1\n",
      "2019-04-18 12:17:16,126 : INFO : EPOCH 27 - PROGRESS: at 29.26% examples, 383183 words/s, in_qsize 15, out_qsize 0\n",
      "2019-04-18 12:17:17,174 : INFO : EPOCH 27 - PROGRESS: at 33.92% examples, 380629 words/s, in_qsize 15, out_qsize 0\n",
      "2019-04-18 12:17:18,189 : INFO : EPOCH 27 - PROGRESS: at 38.89% examples, 383478 words/s, in_qsize 15, out_qsize 0\n",
      "2019-04-18 12:17:19,197 : INFO : EPOCH 27 - PROGRESS: at 43.00% examples, 378281 words/s, in_qsize 16, out_qsize 0\n",
      "2019-04-18 12:17:20,322 : INFO : EPOCH 27 - PROGRESS: at 48.51% examples, 381108 words/s, in_qsize 16, out_qsize 0\n",
      "2019-04-18 12:17:21,333 : INFO : EPOCH 27 - PROGRESS: at 53.59% examples, 384002 words/s, in_qsize 15, out_qsize 0\n",
      "2019-04-18 12:17:22,341 : INFO : EPOCH 27 - PROGRESS: at 58.80% examples, 387247 words/s, in_qsize 10, out_qsize 5\n",
      "2019-04-18 12:17:23,361 : INFO : EPOCH 27 - PROGRESS: at 64.08% examples, 390350 words/s, in_qsize 16, out_qsize 0\n",
      "2019-04-18 12:17:24,417 : INFO : EPOCH 27 - PROGRESS: at 68.96% examples, 389504 words/s, in_qsize 15, out_qsize 0\n",
      "2019-04-18 12:17:25,421 : INFO : EPOCH 27 - PROGRESS: at 73.94% examples, 390716 words/s, in_qsize 16, out_qsize 1\n",
      "2019-04-18 12:17:26,489 : INFO : EPOCH 27 - PROGRESS: at 79.05% examples, 390799 words/s, in_qsize 16, out_qsize 2\n",
      "2019-04-18 12:17:27,549 : INFO : EPOCH 27 - PROGRESS: at 84.58% examples, 393077 words/s, in_qsize 15, out_qsize 0\n",
      "2019-04-18 12:17:28,576 : INFO : EPOCH 27 - PROGRESS: at 89.89% examples, 394808 words/s, in_qsize 16, out_qsize 2\n",
      "2019-04-18 12:17:29,596 : INFO : EPOCH 27 - PROGRESS: at 95.66% examples, 398339 words/s, in_qsize 16, out_qsize 0\n",
      "2019-04-18 12:17:30,252 : INFO : worker thread finished; awaiting finish of 7 more threads\n",
      "2019-04-18 12:17:30,264 : INFO : worker thread finished; awaiting finish of 6 more threads\n",
      "2019-04-18 12:17:30,272 : INFO : worker thread finished; awaiting finish of 5 more threads\n",
      "2019-04-18 12:17:30,272 : INFO : worker thread finished; awaiting finish of 4 more threads\n",
      "2019-04-18 12:17:30,276 : INFO : worker thread finished; awaiting finish of 3 more threads\n",
      "2019-04-18 12:17:30,288 : INFO : worker thread finished; awaiting finish of 2 more threads\n",
      "2019-04-18 12:17:30,308 : INFO : worker thread finished; awaiting finish of 1 more threads\n",
      "2019-04-18 12:17:30,316 : INFO : worker thread finished; awaiting finish of 0 more threads\n",
      "2019-04-18 12:17:30,316 : INFO : EPOCH - 27 : training on 9227204 raw words (8223666 effective words) took 20.5s, 401736 effective words/s\n",
      "2019-04-18 12:17:31,376 : INFO : EPOCH 28 - PROGRESS: at 4.56% examples, 361238 words/s, in_qsize 16, out_qsize 0\n",
      "2019-04-18 12:17:32,375 : INFO : EPOCH 28 - PROGRESS: at 10.21% examples, 411368 words/s, in_qsize 15, out_qsize 0\n",
      "2019-04-18 12:17:33,431 : INFO : EPOCH 28 - PROGRESS: at 15.52% examples, 412268 words/s, in_qsize 15, out_qsize 0\n",
      "2019-04-18 12:17:34,439 : INFO : EPOCH 28 - PROGRESS: at 20.27% examples, 406393 words/s, in_qsize 15, out_qsize 0\n",
      "2019-04-18 12:17:35,471 : INFO : EPOCH 28 - PROGRESS: at 25.37% examples, 406247 words/s, in_qsize 16, out_qsize 1\n",
      "2019-04-18 12:17:36,530 : INFO : EPOCH 28 - PROGRESS: at 30.67% examples, 407461 words/s, in_qsize 15, out_qsize 0\n",
      "2019-04-18 12:17:37,534 : INFO : EPOCH 28 - PROGRESS: at 35.54% examples, 406276 words/s, in_qsize 16, out_qsize 0\n",
      "2019-04-18 12:17:38,606 : INFO : EPOCH 28 - PROGRESS: at 41.16% examples, 409550 words/s, in_qsize 15, out_qsize 0\n",
      "2019-04-18 12:17:39,614 : INFO : EPOCH 28 - PROGRESS: at 45.26% examples, 401522 words/s, in_qsize 16, out_qsize 1\n",
      "2019-04-18 12:17:40,650 : INFO : EPOCH 28 - PROGRESS: at 50.13% examples, 400727 words/s, in_qsize 16, out_qsize 2\n",
      "2019-04-18 12:17:41,641 : INFO : EPOCH 28 - PROGRESS: at 55.42% examples, 403665 words/s, in_qsize 16, out_qsize 0\n",
      "2019-04-18 12:17:42,665 : INFO : EPOCH 28 - PROGRESS: at 59.98% examples, 400459 words/s, in_qsize 14, out_qsize 1\n",
      "2019-04-18 12:17:43,697 : INFO : EPOCH 28 - PROGRESS: at 65.27% examples, 402208 words/s, in_qsize 15, out_qsize 0\n",
      "2019-04-18 12:17:44,729 : INFO : EPOCH 28 - PROGRESS: at 70.05% examples, 400579 words/s, in_qsize 12, out_qsize 3\n",
      "2019-04-18 12:17:45,760 : INFO : EPOCH 28 - PROGRESS: at 75.24% examples, 401527 words/s, in_qsize 15, out_qsize 0\n",
      "2019-04-18 12:17:46,768 : INFO : EPOCH 28 - PROGRESS: at 80.35% examples, 402416 words/s, in_qsize 14, out_qsize 3\n",
      "2019-04-18 12:17:47,776 : INFO : EPOCH 28 - PROGRESS: at 86.31% examples, 407174 words/s, in_qsize 15, out_qsize 0\n",
      "2019-04-18 12:17:48,784 : INFO : EPOCH 28 - PROGRESS: at 90.98% examples, 405715 words/s, in_qsize 15, out_qsize 0\n",
      "2019-04-18 12:17:49,799 : INFO : EPOCH 28 - PROGRESS: at 95.66% examples, 404161 words/s, in_qsize 14, out_qsize 1\n",
      "2019-04-18 12:17:50,567 : INFO : worker thread finished; awaiting finish of 7 more threads\n",
      "2019-04-18 12:17:50,571 : INFO : worker thread finished; awaiting finish of 6 more threads\n",
      "2019-04-18 12:17:50,575 : INFO : worker thread finished; awaiting finish of 5 more threads\n",
      "2019-04-18 12:17:50,583 : INFO : worker thread finished; awaiting finish of 4 more threads\n",
      "2019-04-18 12:17:50,591 : INFO : worker thread finished; awaiting finish of 3 more threads\n",
      "2019-04-18 12:17:50,599 : INFO : worker thread finished; awaiting finish of 2 more threads\n",
      "2019-04-18 12:17:50,611 : INFO : worker thread finished; awaiting finish of 1 more threads\n",
      "2019-04-18 12:17:50,623 : INFO : worker thread finished; awaiting finish of 0 more threads\n",
      "2019-04-18 12:17:50,627 : INFO : EPOCH - 28 : training on 9227204 raw words (8222587 effective words) took 20.3s, 405347 effective words/s\n",
      "2019-04-18 12:17:51,649 : INFO : EPOCH 29 - PROGRESS: at 4.78% examples, 390903 words/s, in_qsize 15, out_qsize 0\n",
      "2019-04-18 12:17:52,653 : INFO : EPOCH 29 - PROGRESS: at 9.88% examples, 404169 words/s, in_qsize 15, out_qsize 0\n",
      "2019-04-18 12:17:53,669 : INFO : EPOCH 29 - PROGRESS: at 14.54% examples, 394812 words/s, in_qsize 15, out_qsize 0\n",
      "2019-04-18 12:17:54,753 : INFO : EPOCH 29 - PROGRESS: at 19.51% examples, 390313 words/s, in_qsize 14, out_qsize 1\n"
     ]
    },
    {
     "name": "stderr",
     "output_type": "stream",
     "text": [
      "2019-04-18 12:17:55,760 : INFO : EPOCH 29 - PROGRESS: at 24.06% examples, 386543 words/s, in_qsize 16, out_qsize 0\n",
      "2019-04-18 12:17:56,844 : INFO : EPOCH 29 - PROGRESS: at 29.59% examples, 392380 words/s, in_qsize 15, out_qsize 0\n",
      "2019-04-18 12:17:57,900 : INFO : EPOCH 29 - PROGRESS: at 34.67% examples, 393070 words/s, in_qsize 15, out_qsize 0\n",
      "2019-04-18 12:17:58,899 : INFO : EPOCH 29 - PROGRESS: at 40.41% examples, 402521 words/s, in_qsize 13, out_qsize 2\n",
      "2019-04-18 12:17:59,947 : INFO : EPOCH 29 - PROGRESS: at 45.92% examples, 406109 words/s, in_qsize 14, out_qsize 1\n",
      "2019-04-18 12:18:00,981 : INFO : EPOCH 29 - PROGRESS: at 50.67% examples, 403460 words/s, in_qsize 15, out_qsize 1\n",
      "2019-04-18 12:18:02,021 : INFO : EPOCH 29 - PROGRESS: at 56.62% examples, 409567 words/s, in_qsize 15, out_qsize 0\n",
      "2019-04-18 12:18:03,025 : INFO : EPOCH 29 - PROGRESS: at 61.39% examples, 408109 words/s, in_qsize 15, out_qsize 0\n",
      "2019-04-18 12:18:04,040 : INFO : EPOCH 29 - PROGRESS: at 66.80% examples, 410321 words/s, in_qsize 16, out_qsize 0\n",
      "2019-04-18 12:18:05,054 : INFO : EPOCH 29 - PROGRESS: at 72.43% examples, 413603 words/s, in_qsize 15, out_qsize 0\n",
      "2019-04-18 12:18:06,062 : INFO : EPOCH 29 - PROGRESS: at 77.63% examples, 414372 words/s, in_qsize 15, out_qsize 0\n",
      "2019-04-18 12:18:07,146 : INFO : EPOCH 29 - PROGRESS: at 83.40% examples, 415789 words/s, in_qsize 15, out_qsize 0\n",
      "2019-04-18 12:18:08,154 : INFO : EPOCH 29 - PROGRESS: at 88.80% examples, 417210 words/s, in_qsize 15, out_qsize 0\n",
      "2019-04-18 12:18:09,161 : INFO : EPOCH 29 - PROGRESS: at 94.69% examples, 420478 words/s, in_qsize 15, out_qsize 0\n",
      "2019-04-18 12:18:10,001 : INFO : worker thread finished; awaiting finish of 7 more threads\n",
      "2019-04-18 12:18:10,001 : INFO : worker thread finished; awaiting finish of 6 more threads\n",
      "2019-04-18 12:18:10,005 : INFO : worker thread finished; awaiting finish of 5 more threads\n",
      "2019-04-18 12:18:10,021 : INFO : worker thread finished; awaiting finish of 4 more threads\n",
      "2019-04-18 12:18:10,033 : INFO : worker thread finished; awaiting finish of 3 more threads\n",
      "2019-04-18 12:18:10,045 : INFO : worker thread finished; awaiting finish of 2 more threads\n",
      "2019-04-18 12:18:10,061 : INFO : worker thread finished; awaiting finish of 1 more threads\n",
      "2019-04-18 12:18:10,065 : INFO : worker thread finished; awaiting finish of 0 more threads\n",
      "2019-04-18 12:18:10,065 : INFO : EPOCH - 29 : training on 9227204 raw words (8223307 effective words) took 19.4s, 423422 effective words/s\n",
      "2019-04-18 12:18:11,085 : INFO : EPOCH 30 - PROGRESS: at 4.78% examples, 391486 words/s, in_qsize 15, out_qsize 0\n",
      "2019-04-18 12:18:12,097 : INFO : EPOCH 30 - PROGRESS: at 10.64% examples, 433477 words/s, in_qsize 15, out_qsize 0\n",
      "2019-04-18 12:18:13,101 : INFO : EPOCH 30 - PROGRESS: at 15.19% examples, 413440 words/s, in_qsize 15, out_qsize 0\n",
      "2019-04-18 12:18:14,196 : INFO : EPOCH 30 - PROGRESS: at 20.81% examples, 415867 words/s, in_qsize 15, out_qsize 0\n",
      "2019-04-18 12:18:15,204 : INFO : EPOCH 30 - PROGRESS: at 25.48% examples, 408920 words/s, in_qsize 16, out_qsize 0\n",
      "2019-04-18 12:18:16,216 : INFO : EPOCH 30 - PROGRESS: at 30.14% examples, 403995 words/s, in_qsize 15, out_qsize 0\n",
      "2019-04-18 12:18:17,232 : INFO : EPOCH 30 - PROGRESS: at 35.75% examples, 411377 words/s, in_qsize 15, out_qsize 0\n",
      "2019-04-18 12:18:18,247 : INFO : EPOCH 30 - PROGRESS: at 40.73% examples, 410347 words/s, in_qsize 15, out_qsize 0\n",
      "2019-04-18 12:18:19,267 : INFO : EPOCH 30 - PROGRESS: at 46.35% examples, 415132 words/s, in_qsize 15, out_qsize 0\n",
      "2019-04-18 12:18:20,295 : INFO : EPOCH 30 - PROGRESS: at 51.86% examples, 417884 words/s, in_qsize 12, out_qsize 3\n",
      "2019-04-18 12:18:21,351 : INFO : EPOCH 30 - PROGRESS: at 56.73% examples, 414291 words/s, in_qsize 16, out_qsize 0\n",
      "2019-04-18 12:18:22,435 : INFO : EPOCH 30 - PROGRESS: at 62.68% examples, 417653 words/s, in_qsize 14, out_qsize 1\n",
      "2019-04-18 12:18:23,547 : INFO : EPOCH 30 - PROGRESS: at 68.75% examples, 420219 words/s, in_qsize 13, out_qsize 3\n",
      "2019-04-18 12:18:24,569 : INFO : EPOCH 30 - PROGRESS: at 74.49% examples, 423117 words/s, in_qsize 16, out_qsize 2\n",
      "2019-04-18 12:18:25,597 : INFO : EPOCH 30 - PROGRESS: at 80.36% examples, 426085 words/s, in_qsize 16, out_qsize 0\n",
      "2019-04-18 12:18:26,600 : INFO : EPOCH 30 - PROGRESS: at 84.69% examples, 421760 words/s, in_qsize 16, out_qsize 0\n",
      "2019-04-18 12:18:27,601 : INFO : EPOCH 30 - PROGRESS: at 90.22% examples, 423581 words/s, in_qsize 15, out_qsize 0\n",
      "2019-04-18 12:18:28,636 : INFO : EPOCH 30 - PROGRESS: at 95.44% examples, 422982 words/s, in_qsize 15, out_qsize 1\n",
      "2019-04-18 12:18:29,405 : INFO : worker thread finished; awaiting finish of 7 more threads\n",
      "2019-04-18 12:18:29,409 : INFO : worker thread finished; awaiting finish of 6 more threads\n",
      "2019-04-18 12:18:29,413 : INFO : worker thread finished; awaiting finish of 5 more threads\n",
      "2019-04-18 12:18:29,425 : INFO : worker thread finished; awaiting finish of 4 more threads\n",
      "2019-04-18 12:18:29,437 : INFO : worker thread finished; awaiting finish of 3 more threads\n",
      "2019-04-18 12:18:29,481 : INFO : worker thread finished; awaiting finish of 2 more threads\n",
      "2019-04-18 12:18:29,485 : INFO : worker thread finished; awaiting finish of 1 more threads\n",
      "2019-04-18 12:18:29,501 : INFO : worker thread finished; awaiting finish of 0 more threads\n",
      "2019-04-18 12:18:29,501 : INFO : EPOCH - 30 : training on 9227204 raw words (8222225 effective words) took 19.4s, 423413 effective words/s\n",
      "2019-04-18 12:18:30,588 : INFO : EPOCH 31 - PROGRESS: at 4.45% examples, 343201 words/s, in_qsize 14, out_qsize 3\n",
      "2019-04-18 12:18:31,622 : INFO : EPOCH 31 - PROGRESS: at 10.21% examples, 399767 words/s, in_qsize 15, out_qsize 0\n",
      "2019-04-18 12:18:32,702 : INFO : EPOCH 31 - PROGRESS: at 15.19% examples, 392627 words/s, in_qsize 15, out_qsize 0\n",
      "2019-04-18 12:18:33,742 : INFO : EPOCH 31 - PROGRESS: at 21.03% examples, 409820 words/s, in_qsize 15, out_qsize 0\n",
      "2019-04-18 12:18:34,754 : INFO : EPOCH 31 - PROGRESS: at 26.88% examples, 422646 words/s, in_qsize 15, out_qsize 0\n",
      "2019-04-18 12:18:35,838 : INFO : EPOCH 31 - PROGRESS: at 31.97% examples, 416351 words/s, in_qsize 15, out_qsize 0\n",
      "2019-04-18 12:18:36,910 : INFO : EPOCH 31 - PROGRESS: at 37.92% examples, 422276 words/s, in_qsize 15, out_qsize 0\n",
      "2019-04-18 12:18:37,973 : INFO : EPOCH 31 - PROGRESS: at 43.22% examples, 420705 words/s, in_qsize 15, out_qsize 0\n",
      "2019-04-18 12:18:39,035 : INFO : EPOCH 31 - PROGRESS: at 48.84% examples, 422464 words/s, in_qsize 15, out_qsize 0\n",
      "2019-04-18 12:18:40,043 : INFO : EPOCH 31 - PROGRESS: at 54.67% examples, 427827 words/s, in_qsize 15, out_qsize 0\n",
      "2019-04-18 12:18:41,054 : INFO : EPOCH 31 - PROGRESS: at 60.19% examples, 429623 words/s, in_qsize 15, out_qsize 0\n",
      "2019-04-18 12:18:42,098 : INFO : EPOCH 31 - PROGRESS: at 65.72% examples, 430208 words/s, in_qsize 15, out_qsize 0\n",
      "2019-04-18 12:18:43,122 : INFO : EPOCH 31 - PROGRESS: at 70.59% examples, 427296 words/s, in_qsize 14, out_qsize 1\n",
      "2019-04-18 12:18:44,154 : INFO : EPOCH 31 - PROGRESS: at 76.66% examples, 431189 words/s, in_qsize 15, out_qsize 0\n",
      "2019-04-18 12:18:45,178 : INFO : EPOCH 31 - PROGRESS: at 81.55% examples, 428581 words/s, in_qsize 15, out_qsize 0\n",
      "2019-04-18 12:18:46,197 : INFO : EPOCH 31 - PROGRESS: at 86.85% examples, 428530 words/s, in_qsize 15, out_qsize 0\n",
      "2019-04-18 12:18:47,209 : INFO : EPOCH 31 - PROGRESS: at 92.18% examples, 428689 words/s, in_qsize 15, out_qsize 0\n",
      "2019-04-18 12:18:48,298 : INFO : EPOCH 31 - PROGRESS: at 98.36% examples, 430905 words/s, in_qsize 15, out_qsize 0\n",
      "2019-04-18 12:18:48,402 : INFO : worker thread finished; awaiting finish of 7 more threads\n",
      "2019-04-18 12:18:48,426 : INFO : worker thread finished; awaiting finish of 6 more threads\n",
      "2019-04-18 12:18:48,430 : INFO : worker thread finished; awaiting finish of 5 more threads\n",
      "2019-04-18 12:18:48,442 : INFO : worker thread finished; awaiting finish of 4 more threads\n",
      "2019-04-18 12:18:48,450 : INFO : worker thread finished; awaiting finish of 3 more threads\n",
      "2019-04-18 12:18:48,454 : INFO : worker thread finished; awaiting finish of 2 more threads\n",
      "2019-04-18 12:18:48,458 : INFO : worker thread finished; awaiting finish of 1 more threads\n",
      "2019-04-18 12:18:48,470 : INFO : worker thread finished; awaiting finish of 0 more threads\n"
     ]
    },
    {
     "name": "stderr",
     "output_type": "stream",
     "text": [
      "2019-04-18 12:18:48,470 : INFO : EPOCH - 31 : training on 9227204 raw words (8223183 effective words) took 18.9s, 434042 effective words/s\n",
      "2019-04-18 12:18:49,490 : INFO : EPOCH 32 - PROGRESS: at 5.21% examples, 425210 words/s, in_qsize 15, out_qsize 0\n",
      "2019-04-18 12:18:50,546 : INFO : EPOCH 32 - PROGRESS: at 10.53% examples, 418853 words/s, in_qsize 15, out_qsize 0\n",
      "2019-04-18 12:18:51,589 : INFO : EPOCH 32 - PROGRESS: at 16.27% examples, 430141 words/s, in_qsize 14, out_qsize 1\n",
      "2019-04-18 12:18:52,621 : INFO : EPOCH 32 - PROGRESS: at 22.33% examples, 443327 words/s, in_qsize 14, out_qsize 1\n",
      "2019-04-18 12:18:53,661 : INFO : EPOCH 32 - PROGRESS: at 28.18% examples, 447170 words/s, in_qsize 14, out_qsize 1\n",
      "2019-04-18 12:18:54,765 : INFO : EPOCH 32 - PROGRESS: at 33.38% examples, 436696 words/s, in_qsize 16, out_qsize 0\n",
      "2019-04-18 12:18:55,770 : INFO : EPOCH 32 - PROGRESS: at 39.00% examples, 440155 words/s, in_qsize 15, out_qsize 0\n",
      "2019-04-18 12:18:56,801 : INFO : EPOCH 32 - PROGRESS: at 44.51% examples, 440242 words/s, in_qsize 16, out_qsize 0\n",
      "2019-04-18 12:18:57,861 : INFO : EPOCH 32 - PROGRESS: at 49.92% examples, 438032 words/s, in_qsize 14, out_qsize 1\n",
      "2019-04-18 12:18:58,861 : INFO : EPOCH 32 - PROGRESS: at 54.67% examples, 433522 words/s, in_qsize 16, out_qsize 0\n",
      "2019-04-18 12:18:59,856 : INFO : EPOCH 32 - PROGRESS: at 59.44% examples, 429750 words/s, in_qsize 13, out_qsize 2\n",
      "2019-04-18 12:19:00,884 : INFO : EPOCH 32 - PROGRESS: at 64.62% examples, 428536 words/s, in_qsize 14, out_qsize 1\n",
      "2019-04-18 12:19:01,920 : INFO : EPOCH 32 - PROGRESS: at 69.72% examples, 426934 words/s, in_qsize 15, out_qsize 0\n",
      "2019-04-18 12:19:02,988 : INFO : EPOCH 32 - PROGRESS: at 73.52% examples, 417035 words/s, in_qsize 16, out_qsize 1\n",
      "2019-04-18 12:19:03,990 : INFO : EPOCH 32 - PROGRESS: at 78.73% examples, 417411 words/s, in_qsize 15, out_qsize 0\n",
      "2019-04-18 12:19:05,055 : INFO : EPOCH 32 - PROGRESS: at 83.72% examples, 415248 words/s, in_qsize 15, out_qsize 0\n",
      "2019-04-18 12:19:06,144 : INFO : EPOCH 32 - PROGRESS: at 89.67% examples, 417595 words/s, in_qsize 14, out_qsize 1\n",
      "2019-04-18 12:19:07,218 : INFO : EPOCH 32 - PROGRESS: at 96.31% examples, 422511 words/s, in_qsize 15, out_qsize 0\n",
      "2019-04-18 12:19:07,661 : INFO : worker thread finished; awaiting finish of 7 more threads\n",
      "2019-04-18 12:19:07,692 : INFO : worker thread finished; awaiting finish of 6 more threads\n",
      "2019-04-18 12:19:07,692 : INFO : worker thread finished; awaiting finish of 5 more threads\n",
      "2019-04-18 12:19:07,692 : INFO : worker thread finished; awaiting finish of 4 more threads\n",
      "2019-04-18 12:19:07,692 : INFO : worker thread finished; awaiting finish of 3 more threads\n",
      "2019-04-18 12:19:07,712 : INFO : worker thread finished; awaiting finish of 2 more threads\n",
      "2019-04-18 12:19:07,732 : INFO : worker thread finished; awaiting finish of 1 more threads\n",
      "2019-04-18 12:19:07,740 : INFO : worker thread finished; awaiting finish of 0 more threads\n",
      "2019-04-18 12:19:07,740 : INFO : EPOCH - 32 : training on 9227204 raw words (8222821 effective words) took 19.3s, 427017 effective words/s\n",
      "2019-04-18 12:19:07,740 : INFO : training on a 295270528 raw words (263124774 effective words) took 609.9s, 431402 effective words/s\n"
     ]
    },
    {
     "name": "stdout",
     "output_type": "stream",
     "text": [
      "Wall time: 10min 9s\n"
     ]
    },
    {
     "data": {
      "text/plain": [
       "(263124774, 295270528)"
      ]
     },
     "execution_count": 37,
     "metadata": {},
     "output_type": "execute_result"
    }
   ],
   "source": [
    "%%time\n",
    "w2v_model.train(documents, total_examples=len(documents), epochs=W2V_EPOCH)"
   ]
  },
  {
   "cell_type": "code",
   "execution_count": 38,
   "metadata": {
    "colab": {
     "base_uri": "https://localhost:8080/",
     "height": 292
    },
    "colab_type": "code",
    "id": "IuswtbP4pkCm",
    "outputId": "2ad59248-0e7a-485b-b272-9e3b9325fd84"
   },
   "outputs": [
    {
     "name": "stderr",
     "output_type": "stream",
     "text": [
      "C:\\Users\\Divesh\\Anaconda3\\lib\\site-packages\\ipykernel_launcher.py:1: DeprecationWarning: Call to deprecated `most_similar` (Method will be removed in 4.0.0, use self.wv.most_similar() instead).\n",
      "  \"\"\"Entry point for launching an IPython kernel.\n",
      "2019-04-18 12:19:07,773 : INFO : precomputing L2-norms of word weight vectors\n"
     ]
    },
    {
     "data": {
      "text/plain": [
       "[('luv', 0.5684652328491211),\n",
       " ('loves', 0.557991623878479),\n",
       " ('loved', 0.5358697175979614),\n",
       " ('adore', 0.505211353302002),\n",
       " ('amazing', 0.49776819348335266),\n",
       " ('looove', 0.4813362658023834),\n",
       " ('loveee', 0.4602011442184448),\n",
       " ('awesome', 0.44988957047462463),\n",
       " ('lovee', 0.4404873251914978),\n",
       " ('miss', 0.42342984676361084)]"
      ]
     },
     "execution_count": 38,
     "metadata": {},
     "output_type": "execute_result"
    }
   ],
   "source": [
    "w2v_model.most_similar(\"love\")"
   ]
  },
  {
   "cell_type": "code",
   "execution_count": 39,
   "metadata": {
    "colab": {
     "base_uri": "https://localhost:8080/",
     "height": 68
    },
    "colab_type": "code",
    "id": "7oCuEDEupkCo",
    "outputId": "527fe97f-c15a-46ed-cff3-1abdaefc829b"
   },
   "outputs": [
    {
     "name": "stdout",
     "output_type": "stream",
     "text": [
      "Total words 290419\n",
      "Wall time: 30.5 s\n"
     ]
    }
   ],
   "source": [
    "%%time\n",
    "tokenizer = Tokenizer()\n",
    "tokenizer.fit_on_texts(df_train.text)\n",
    "\n",
    "vocab_size = len(tokenizer.word_index) + 1\n",
    "print(\"Total words\", vocab_size)"
   ]
  },
  {
   "cell_type": "code",
   "execution_count": 40,
   "metadata": {
    "colab": {
     "base_uri": "https://localhost:8080/",
     "height": 51
    },
    "colab_type": "code",
    "id": "M4TpfxVTpkCp",
    "outputId": "1b6b2b5d-c168-4696-9a33-2ea4772f1ecc"
   },
   "outputs": [
    {
     "name": "stdout",
     "output_type": "stream",
     "text": [
      "Wall time: 45.1 s\n"
     ]
    }
   ],
   "source": [
    "%%time\n",
    "x_train = pad_sequences(tokenizer.texts_to_sequences(df_train.text), maxlen=SEQUENCE_LENGTH)\n",
    "x_test = pad_sequences(tokenizer.texts_to_sequences(df_test.text), maxlen=SEQUENCE_LENGTH)"
   ]
  },
  {
   "cell_type": "code",
   "execution_count": 41,
   "metadata": {
    "colab": {
     "base_uri": "https://localhost:8080/",
     "height": 34
    },
    "colab_type": "code",
    "id": "2MeSqbDFpkCs",
    "outputId": "2e736acf-89cd-4929-ae75-7f1dbc6191a0"
   },
   "outputs": [
    {
     "data": {
      "text/plain": [
       "['POSITIVE', 'NEGATIVE', 'NEUTRAL']"
      ]
     },
     "execution_count": 41,
     "metadata": {},
     "output_type": "execute_result"
    }
   ],
   "source": [
    "labels = df_train.target.unique().tolist()\n",
    "labels.append(NEUTRAL)\n",
    "labels"
   ]
  },
  {
   "cell_type": "code",
   "execution_count": 42,
   "metadata": {
    "colab": {
     "base_uri": "https://localhost:8080/",
     "height": 51
    },
    "colab_type": "code",
    "id": "Sf0A8sktpkCw",
    "outputId": "a5586bb3-676c-49ab-ab85-b6766b6b1731"
   },
   "outputs": [
    {
     "name": "stdout",
     "output_type": "stream",
     "text": [
      "y_train (1280000, 1)\n",
      "y_test (320000, 1)\n"
     ]
    }
   ],
   "source": [
    "encoder = LabelEncoder()\n",
    "encoder.fit(df_train.target.tolist())\n",
    "\n",
    "y_train = encoder.transform(df_train.target.tolist())\n",
    "y_test = encoder.transform(df_test.target.tolist())\n",
    "\n",
    "y_train = y_train.reshape(-1,1)\n",
    "y_test = y_test.reshape(-1,1)\n",
    "\n",
    "print(\"y_train\",y_train.shape)\n",
    "print(\"y_test\",y_test.shape)"
   ]
  },
  {
   "cell_type": "code",
   "execution_count": 43,
   "metadata": {
    "colab": {
     "base_uri": "https://localhost:8080/",
     "height": 102
    },
    "colab_type": "code",
    "id": "VK77L4d_pkCy",
    "outputId": "023d1a71-28bb-4d62-ae3b-5fcc0962506d"
   },
   "outputs": [
    {
     "name": "stdout",
     "output_type": "stream",
     "text": [
      "x_train (1280000, 300)\n",
      "y_train (1280000, 1)\n",
      "\n",
      "x_test (320000, 300)\n",
      "y_test (320000, 1)\n"
     ]
    }
   ],
   "source": [
    "print(\"x_train\", x_train.shape)\n",
    "print(\"y_train\", y_train.shape)\n",
    "print()\n",
    "print(\"x_test\", x_test.shape)\n",
    "print(\"y_test\", y_test.shape)"
   ]
  },
  {
   "cell_type": "code",
   "execution_count": 44,
   "metadata": {
    "colab": {
     "base_uri": "https://localhost:8080/",
     "height": 187
    },
    "colab_type": "code",
    "id": "fcMm0w-TpkC1",
    "outputId": "37df06f6-4441-4685-a76b-e619dba3de50"
   },
   "outputs": [
    {
     "data": {
      "text/plain": [
       "array([[1],\n",
       "       [1],\n",
       "       [1],\n",
       "       [0],\n",
       "       [1],\n",
       "       [1],\n",
       "       [1],\n",
       "       [1],\n",
       "       [1],\n",
       "       [1]], dtype=int64)"
      ]
     },
     "execution_count": 44,
     "metadata": {},
     "output_type": "execute_result"
    }
   ],
   "source": [
    "y_train[:10]"
   ]
  },
  {
   "cell_type": "code",
   "execution_count": 45,
   "metadata": {
    "colab": {
     "base_uri": "https://localhost:8080/",
     "height": 34
    },
    "colab_type": "code",
    "id": "eHnu54HapkC3",
    "outputId": "6b18ceae-5549-41da-dd84-b38e7458c8e0"
   },
   "outputs": [
    {
     "name": "stdout",
     "output_type": "stream",
     "text": [
      "(290419, 300)\n"
     ]
    }
   ],
   "source": [
    "embedding_matrix = np.zeros((vocab_size, W2V_SIZE))\n",
    "for word, i in tokenizer.word_index.items():\n",
    "    if word in w2v_model.wv:\n",
    "        embedding_matrix[i] = w2v_model.wv[word]\n",
    "print(embedding_matrix.shape)"
   ]
  },
  {
   "cell_type": "code",
   "execution_count": 46,
   "metadata": {
    "colab": {},
    "colab_type": "code",
    "id": "d13JWffUpkC4"
   },
   "outputs": [],
   "source": [
    "embedding_layer = Embedding(vocab_size, W2V_SIZE, weights=[embedding_matrix], input_length=SEQUENCE_LENGTH, trainable=False)"
   ]
  },
  {
   "cell_type": "code",
   "execution_count": 47,
   "metadata": {
    "colab": {
     "base_uri": "https://localhost:8080/",
     "height": 272
    },
    "colab_type": "code",
    "id": "eL7yr86QpkC6",
    "outputId": "ccefcd47-dc1b-464d-a0a9-2cb24c13e2d7"
   },
   "outputs": [
    {
     "name": "stdout",
     "output_type": "stream",
     "text": [
      "_________________________________________________________________\n",
      "Layer (type)                 Output Shape              Param #   \n",
      "=================================================================\n",
      "embedding_1 (Embedding)      (None, 300, 300)          87125700  \n",
      "_________________________________________________________________\n",
      "dropout_1 (Dropout)          (None, 300, 300)          0         \n",
      "_________________________________________________________________\n",
      "lstm_1 (LSTM)                (None, 100)               160400    \n",
      "_________________________________________________________________\n",
      "dense_1 (Dense)              (None, 1)                 101       \n",
      "=================================================================\n",
      "Total params: 87,286,201\n",
      "Trainable params: 160,501\n",
      "Non-trainable params: 87,125,700\n",
      "_________________________________________________________________\n"
     ]
    }
   ],
   "source": [
    "model = Sequential()\n",
    "model.add(embedding_layer)\n",
    "model.add(Dropout(0.5))\n",
    "model.add(LSTM(100, dropout=0.2, recurrent_dropout=0.2))\n",
    "model.add(Dense(1, activation='sigmoid'))\n",
    "\n",
    "model.summary()"
   ]
  },
  {
   "cell_type": "code",
   "execution_count": 48,
   "metadata": {
    "colab": {},
    "colab_type": "code",
    "id": "a8CXn7b6pkC8"
   },
   "outputs": [],
   "source": [
    "model.compile(loss='binary_crossentropy',\n",
    "              optimizer=\"adam\",\n",
    "              metrics=['accuracy'])"
   ]
  },
  {
   "cell_type": "code",
   "execution_count": 49,
   "metadata": {
    "colab": {},
    "colab_type": "code",
    "id": "sN8VoRgCpkC-"
   },
   "outputs": [],
   "source": [
    "callbacks = [ ReduceLROnPlateau(monitor='val_loss', patience=5, cooldown=0),\n",
    "              EarlyStopping(monitor='val_acc', min_delta=1e-4, patience=5)]"
   ]
  },
  {
   "cell_type": "code",
   "execution_count": null,
   "metadata": {
    "colab": {
     "base_uri": "https://localhost:8080/",
     "height": 340
    },
    "colab_type": "code",
    "id": "qP92qnelpkDA",
    "outputId": "ca335652-3e14-4c3b-95d5-8848f04a999d"
   },
   "outputs": [
    {
     "name": "stdout",
     "output_type": "stream",
     "text": [
      "Train on 1152000 samples, validate on 128000 samples\n",
      "Epoch 1/8\n",
      " 482304/1152000 [===========>..................] - ETA: 9:29:24 - loss: 0.5237 - acc: 0.7369"
     ]
    }
   ],
   "source": [
    "%%time\n",
    "history = model.fit(x_train, y_train,\n",
    "                    batch_size=BATCH_SIZE,\n",
    "                    epochs=EPOCHS,\n",
    "                    validation_split=0.1,\n",
    "                    verbose=1,\n",
    "                    callbacks=callbacks)"
   ]
  },
  {
   "cell_type": "code",
   "execution_count": null,
   "metadata": {
    "colab": {
     "base_uri": "https://localhost:8080/",
     "height": 119
    },
    "colab_type": "code",
    "id": "Oh2HVklepkDC",
    "outputId": "77d2d128-4050-4dcc-d24e-ff2312df22e3"
   },
   "outputs": [],
   "source": [
    "%%time\n",
    "score = model.evaluate(x_test, y_test, batch_size=BATCH_SIZE)\n",
    "print()\n",
    "print(\"ACCURACY:\",score[1])\n",
    "print(\"LOSS:\",score[0])"
   ]
  },
  {
   "cell_type": "code",
   "execution_count": null,
   "metadata": {
    "colab": {
     "base_uri": "https://localhost:8080/",
     "height": 543
    },
    "colab_type": "code",
    "id": "KwI1WgfxpkDC",
    "outputId": "0fc61c78-4c89-42db-f512-61f936719571"
   },
   "outputs": [],
   "source": [
    "acc = history.history['acc']\n",
    "val_acc = history.history['val_acc']\n",
    "loss = history.history['loss']\n",
    "val_loss = history.history['val_loss']\n",
    " \n",
    "epochs = range(len(acc))\n",
    " \n",
    "plt.plot(epochs, acc, 'b', label='Training acc')\n",
    "plt.plot(epochs, val_acc, 'r', label='Validation acc')\n",
    "plt.title('Training and validation accuracy')\n",
    "plt.legend()\n",
    " \n",
    "plt.figure()\n",
    " \n",
    "plt.plot(epochs, loss, 'b', label='Training loss')\n",
    "plt.plot(epochs, val_loss, 'r', label='Validation loss')\n",
    "plt.title('Training and validation loss')\n",
    "plt.legend()\n",
    " \n",
    "plt.show()"
   ]
  },
  {
   "cell_type": "code",
   "execution_count": null,
   "metadata": {
    "colab": {},
    "colab_type": "code",
    "id": "1cAQwdwFpkDD"
   },
   "outputs": [],
   "source": [
    "def decode_sentiment(score, include_neutral=True):\n",
    "    if include_neutral:        \n",
    "        label = NEUTRAL\n",
    "        if score <= SENTIMENT_THRESHOLDS[0]:\n",
    "            label = NEGATIVE\n",
    "        elif score >= SENTIMENT_THRESHOLDS[1]:\n",
    "            label = POSITIVE\n",
    "\n",
    "        return label\n",
    "    else:\n",
    "        return NEGATIVE if score < 0.5 else POSITIVE"
   ]
  },
  {
   "cell_type": "code",
   "execution_count": null,
   "metadata": {
    "colab": {},
    "colab_type": "code",
    "id": "Qjg50l6KpkDH"
   },
   "outputs": [],
   "source": [
    "def predict(text, include_neutral=True):\n",
    "    start_at = time.time()\n",
    "    # Tokenize text\n",
    "    x_test = pad_sequences(tokenizer.texts_to_sequences([text]), maxlen=SEQUENCE_LENGTH)\n",
    "    # Predict\n",
    "    score = model.predict([x_test])[0]\n",
    "    # Decode sentiment\n",
    "    label = decode_sentiment(score, include_neutral=include_neutral)\n",
    "\n",
    "    return {\"label\": label, \"score\": float(score),\n",
    "       \"elapsed_time\": time.time()-start_at} "
   ]
  },
  {
   "cell_type": "code",
   "execution_count": null,
   "metadata": {
    "colab": {
     "base_uri": "https://localhost:8080/",
     "height": 68
    },
    "colab_type": "code",
    "id": "B7QXeMs-pkDI",
    "outputId": "0742a96e-48af-473a-e62c-216d79d8d8d5"
   },
   "outputs": [],
   "source": [
    "predict(\"I love the music\")"
   ]
  },
  {
   "cell_type": "code",
   "execution_count": null,
   "metadata": {
    "colab": {
     "base_uri": "https://localhost:8080/",
     "height": 68
    },
    "colab_type": "code",
    "id": "7bg_M66FpkDJ",
    "outputId": "6c10aad3-9a35-4dff-bb60-489f8fb982c2"
   },
   "outputs": [],
   "source": [
    "predict(\"I hate the rain\")"
   ]
  },
  {
   "cell_type": "code",
   "execution_count": null,
   "metadata": {
    "colab": {
     "base_uri": "https://localhost:8080/",
     "height": 68
    },
    "colab_type": "code",
    "id": "bsDqSZWJpkDN",
    "outputId": "071b4a21-9de0-4155-e265-9d40e3ae7949"
   },
   "outputs": [],
   "source": [
    "predict(\"i don't know what i'm doing\")"
   ]
  },
  {
   "cell_type": "code",
   "execution_count": null,
   "metadata": {
    "colab": {
     "base_uri": "https://localhost:8080/",
     "height": 68
    },
    "colab_type": "code",
    "id": "q6l5Xi9DpkDP",
    "outputId": "b2a04e7d-fd5e-4c99-e586-43961883ee22"
   },
   "outputs": [],
   "source": [
    "predict(\"awesome, I miss my flight\")"
   ]
  },
  {
   "cell_type": "code",
   "execution_count": null,
   "metadata": {
    "colab": {
     "base_uri": "https://localhost:8080/",
     "height": 68
    },
    "colab_type": "code",
    "id": "iOK-jy6qjNRl",
    "outputId": "a5169b15-31be-4fa8-8b1f-57eeb0d5f112"
   },
   "outputs": [],
   "source": [
    "predict(\"pleasure, to meet you\")"
   ]
  },
  {
   "cell_type": "code",
   "execution_count": null,
   "metadata": {
    "colab": {},
    "colab_type": "code",
    "id": "Q0capw5ujy_d"
   },
   "outputs": [],
   "source": []
  }
 ],
 "metadata": {
  "accelerator": "GPU",
  "colab": {
   "collapsed_sections": [],
   "name": "twitter_pedicting_NPN-checkpoint.ipynb",
   "provenance": [],
   "version": "0.3.2"
  },
  "kernelspec": {
   "display_name": "Python 3",
   "language": "python",
   "name": "python3"
  },
  "language_info": {
   "codemirror_mode": {
    "name": "ipython",
    "version": 3
   },
   "file_extension": ".py",
   "mimetype": "text/x-python",
   "name": "python",
   "nbconvert_exporter": "python",
   "pygments_lexer": "ipython3",
   "version": "3.6.5"
  }
 },
 "nbformat": 4,
 "nbformat_minor": 1
}
